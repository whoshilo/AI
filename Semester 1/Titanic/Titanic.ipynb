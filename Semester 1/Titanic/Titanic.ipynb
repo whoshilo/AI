{
 "cells": [
  {
   "cell_type": "code",
   "execution_count": 3,
   "id": "d8553392-ce7b-41ce-a51c-a02f4ab9b027",
   "metadata": {},
   "outputs": [],
   "source": [
    "import pandas as pd"
   ]
  },
  {
   "cell_type": "code",
   "execution_count": 4,
   "id": "ccfa5177-863a-46e9-8894-5888cd4c484c",
   "metadata": {},
   "outputs": [],
   "source": [
    "df = pd.read_csv(\"titanic.csv\")"
   ]
  },
  {
   "cell_type": "code",
   "execution_count": 5,
   "id": "c3cb57b2-1d78-4f60-a351-d887d84397cd",
   "metadata": {},
   "outputs": [
    {
     "data": {
      "text/plain": [
       "Index(['PassengerId', 'Survived', 'Pclass', 'Name', 'Sex', 'Age', 'SibSp',\n",
       "       'Parch', 'Ticket', 'Fare', 'Cabin', 'Embarked'],\n",
       "      dtype='object')"
      ]
     },
     "execution_count": 5,
     "metadata": {},
     "output_type": "execute_result"
    }
   ],
   "source": [
    "df.columns"
   ]
  },
  {
   "cell_type": "code",
   "execution_count": 6,
   "id": "6c00c8e9-2556-46ff-b1d4-355d0c79d028",
   "metadata": {},
   "outputs": [
    {
     "data": {
      "text/plain": [
       "PassengerId                  100\n",
       "Survived                       0\n",
       "Pclass                         2\n",
       "Name           Kantor, Mr. Sinai\n",
       "Sex                         male\n",
       "Age                         34.0\n",
       "SibSp                          1\n",
       "Parch                          0\n",
       "Ticket                    244367\n",
       "Fare                        26.0\n",
       "Cabin                        NaN\n",
       "Embarked                       S\n",
       "Name: 99, dtype: object"
      ]
     },
     "execution_count": 6,
     "metadata": {},
     "output_type": "execute_result"
    }
   ],
   "source": [
    "df.iloc [99]"
   ]
  },
  {
   "cell_type": "code",
   "execution_count": 7,
   "id": "a816e0e1-84e3-45ea-bd80-7a27b70013f5",
   "metadata": {},
   "outputs": [
    {
     "data": {
      "text/plain": [
       "PassengerId                              18\n",
       "Survived                                  1\n",
       "Pclass                                    2\n",
       "Name           Williams, Mr. Charles Eugene\n",
       "Sex                                    male\n",
       "Age                                     NaN\n",
       "SibSp                                     0\n",
       "Parch                                     0\n",
       "Ticket                               244373\n",
       "Fare                                   13.0\n",
       "Cabin                                   NaN\n",
       "Embarked                                  S\n",
       "Name: 17, dtype: object"
      ]
     },
     "execution_count": 7,
     "metadata": {},
     "output_type": "execute_result"
    }
   ],
   "source": [
    "df.iloc [17]"
   ]
  },
  {
   "cell_type": "code",
   "execution_count": 8,
   "id": "35dbdd30-f54c-4202-abfb-e2d8dc09e996",
   "metadata": {},
   "outputs": [
    {
     "data": {
      "text/plain": [
       "PassengerId                   6\n",
       "Survived                      0\n",
       "Pclass                        3\n",
       "Name           Moran, Mr. James\n",
       "Sex                        male\n",
       "Age                         NaN\n",
       "SibSp                         0\n",
       "Parch                         0\n",
       "Ticket                   330877\n",
       "Fare                     8.4583\n",
       "Cabin                       NaN\n",
       "Embarked                      Q\n",
       "Name: 5, dtype: object"
      ]
     },
     "execution_count": 8,
     "metadata": {},
     "output_type": "execute_result"
    }
   ],
   "source": [
    "df.iloc [5]"
   ]
  },
  {
   "cell_type": "code",
   "execution_count": 9,
   "id": "cc07962b-1275-47f2-90d7-0d1bfa715fb8",
   "metadata": {},
   "outputs": [],
   "source": [
    "df.loc[[5],'Age'] = 25"
   ]
  },
  {
   "cell_type": "code",
   "execution_count": 10,
   "id": "7750024b-b6ea-4ba8-8b41-8be5149c786b",
   "metadata": {},
   "outputs": [
    {
     "data": {
      "text/plain": [
       "PassengerId                   6\n",
       "Survived                      0\n",
       "Pclass                        3\n",
       "Name           Moran, Mr. James\n",
       "Sex                        male\n",
       "Age                        25.0\n",
       "SibSp                         0\n",
       "Parch                         0\n",
       "Ticket                   330877\n",
       "Fare                     8.4583\n",
       "Cabin                       NaN\n",
       "Embarked                      Q\n",
       "Name: 5, dtype: object"
      ]
     },
     "execution_count": 10,
     "metadata": {},
     "output_type": "execute_result"
    }
   ],
   "source": [
    "df.loc[5]"
   ]
  },
  {
   "cell_type": "code",
   "execution_count": 11,
   "id": "1f55e9ae-7cb9-49ab-aee5-e0fd353e0925",
   "metadata": {},
   "outputs": [
    {
     "name": "stdout",
     "output_type": "stream",
     "text": [
      "     PassengerId  Survived  Pclass  \\\n",
      "0              1         0       3   \n",
      "1              2         1       1   \n",
      "2              3         1       3   \n",
      "3              4         1       1   \n",
      "4              5         0       3   \n",
      "..           ...       ...     ...   \n",
      "885          886         0       3   \n",
      "886          887         0       2   \n",
      "887          888         1       1   \n",
      "889          890         1       1   \n",
      "890          891         0       3   \n",
      "\n",
      "                                                  Name     Sex   Age  SibSp  \\\n",
      "0                              Braund, Mr. Owen Harris    male  22.0      1   \n",
      "1    Cumings, Mrs. John Bradley (Florence Briggs Th...  female  38.0      1   \n",
      "2                               Heikkinen, Miss. Laina  female  26.0      0   \n",
      "3         Futrelle, Mrs. Jacques Heath (Lily May Peel)  female  35.0      1   \n",
      "4                             Allen, Mr. William Henry    male  35.0      0   \n",
      "..                                                 ...     ...   ...    ...   \n",
      "885               Rice, Mrs. William (Margaret Norton)  female  39.0      0   \n",
      "886                              Montvila, Rev. Juozas    male  27.0      0   \n",
      "887                       Graham, Miss. Margaret Edith  female  19.0      0   \n",
      "889                              Behr, Mr. Karl Howell    male  26.0      0   \n",
      "890                                Dooley, Mr. Patrick    male  32.0      0   \n",
      "\n",
      "     Parch            Ticket     Fare Cabin Embarked  \n",
      "0        0         A/5 21171   7.2500   NaN        S  \n",
      "1        0          PC 17599  71.2833   C85        C  \n",
      "2        0  STON/O2. 3101282   7.9250   NaN        S  \n",
      "3        0            113803  53.1000  C123        S  \n",
      "4        0            373450   8.0500   NaN        S  \n",
      "..     ...               ...      ...   ...      ...  \n",
      "885      5            382652  29.1250   NaN        Q  \n",
      "886      0            211536  13.0000   NaN        S  \n",
      "887      0            112053  30.0000   B42        S  \n",
      "889      0            111369  30.0000  C148        C  \n",
      "890      0            370376   7.7500   NaN        Q  \n",
      "\n",
      "[576 rows x 12 columns]\n"
     ]
    }
   ],
   "source": [
    "agefilter = df[df['Age'] > 18]\n",
    "print (agefilter)"
   ]
  },
  {
   "cell_type": "code",
   "execution_count": 12,
   "id": "3468d6ff-ed73-42cd-9c73-6078e362be50",
   "metadata": {},
   "outputs": [
    {
     "data": {
      "text/plain": [
       "576"
      ]
     },
     "execution_count": 12,
     "metadata": {},
     "output_type": "execute_result"
    }
   ],
   "source": [
    "count = 0\n",
    "for person in df[\"Age\"]:\n",
    "    if person > 18:\n",
    "        count = count + 1\n",
    "count"
   ]
  },
  {
   "cell_type": "code",
   "execution_count": 13,
   "id": "bf38eb58-63ac-4282-a325-69eebfcf3326",
   "metadata": {},
   "outputs": [
    {
     "data": {
      "text/plain": [
       "576"
      ]
     },
     "execution_count": 13,
     "metadata": {},
     "output_type": "execute_result"
    }
   ],
   "source": [
    "count = (df['Age'] > 18).sum()\n",
    "count"
   ]
  },
  {
   "cell_type": "code",
   "execution_count": 14,
   "id": "84107172-3b95-4c5c-9b5c-faa903d8e649",
   "metadata": {},
   "outputs": [
    {
     "data": {
      "text/plain": [
       "64.75869809203144"
      ]
     },
     "execution_count": 14,
     "metadata": {},
     "output_type": "execute_result"
    }
   ],
   "source": [
    "count = 0\n",
    "for person in df['Sex']:\n",
    "    if person == 'male':\n",
    "        count = count + 1\n",
    "count = (count / len(df)) * 100\n",
    "count"
   ]
  },
  {
   "cell_type": "code",
   "execution_count": 15,
   "id": "3ceb277c-19d2-4e73-80d0-f53ed9ccfafa",
   "metadata": {},
   "outputs": [
    {
     "data": {
      "text/plain": [
       "38.38383838383838"
      ]
     },
     "execution_count": 15,
     "metadata": {},
     "output_type": "execute_result"
    }
   ],
   "source": [
    "count = 0\n",
    "for person in df['Survived']:\n",
    "    if person == 1:\n",
    "        count +=1\n",
    "count = (count / len(df)) * 100\n",
    "count"
   ]
  },
  {
   "cell_type": "code",
   "execution_count": 16,
   "id": "41507022-820d-4631-a074-061486ddc76b",
   "metadata": {},
   "outputs": [
    {
     "data": {
      "text/plain": [
       "24.242424242424242"
      ]
     },
     "execution_count": 16,
     "metadata": {},
     "output_type": "execute_result"
    }
   ],
   "source": [
    "count = 0\n",
    "for person in df['Pclass']:\n",
    "    if person == 1:\n",
    "        count +=1\n",
    "count = (count / len(df)) * 100\n",
    "count"
   ]
  },
  {
   "cell_type": "code",
   "execution_count": 17,
   "id": "4d328178-4b7b-47f5-9acc-1f4f5c0c56f8",
   "metadata": {},
   "outputs": [
    {
     "data": {
      "text/plain": [
       "891"
      ]
     },
     "execution_count": 17,
     "metadata": {},
     "output_type": "execute_result"
    }
   ],
   "source": [
    "num_rows = df.shape[0]\n",
    "num_rows"
   ]
  },
  {
   "cell_type": "code",
   "execution_count": 18,
   "id": "576c0546-98c4-4e7e-afe4-6393598cabf0",
   "metadata": {},
   "outputs": [
    {
     "data": {
      "text/plain": [
       "<bound method DataFrame.info of      PassengerId  Survived  Pclass  \\\n",
       "0              1         0       3   \n",
       "1              2         1       1   \n",
       "2              3         1       3   \n",
       "3              4         1       1   \n",
       "4              5         0       3   \n",
       "..           ...       ...     ...   \n",
       "886          887         0       2   \n",
       "887          888         1       1   \n",
       "888          889         0       3   \n",
       "889          890         1       1   \n",
       "890          891         0       3   \n",
       "\n",
       "                                                  Name     Sex   Age  SibSp  \\\n",
       "0                              Braund, Mr. Owen Harris    male  22.0      1   \n",
       "1    Cumings, Mrs. John Bradley (Florence Briggs Th...  female  38.0      1   \n",
       "2                               Heikkinen, Miss. Laina  female  26.0      0   \n",
       "3         Futrelle, Mrs. Jacques Heath (Lily May Peel)  female  35.0      1   \n",
       "4                             Allen, Mr. William Henry    male  35.0      0   \n",
       "..                                                 ...     ...   ...    ...   \n",
       "886                              Montvila, Rev. Juozas    male  27.0      0   \n",
       "887                       Graham, Miss. Margaret Edith  female  19.0      0   \n",
       "888           Johnston, Miss. Catherine Helen \"Carrie\"  female   NaN      1   \n",
       "889                              Behr, Mr. Karl Howell    male  26.0      0   \n",
       "890                                Dooley, Mr. Patrick    male  32.0      0   \n",
       "\n",
       "     Parch            Ticket     Fare Cabin Embarked  \n",
       "0        0         A/5 21171   7.2500   NaN        S  \n",
       "1        0          PC 17599  71.2833   C85        C  \n",
       "2        0  STON/O2. 3101282   7.9250   NaN        S  \n",
       "3        0            113803  53.1000  C123        S  \n",
       "4        0            373450   8.0500   NaN        S  \n",
       "..     ...               ...      ...   ...      ...  \n",
       "886      0            211536  13.0000   NaN        S  \n",
       "887      0            112053  30.0000   B42        S  \n",
       "888      2        W./C. 6607  23.4500   NaN        S  \n",
       "889      0            111369  30.0000  C148        C  \n",
       "890      0            370376   7.7500   NaN        Q  \n",
       "\n",
       "[891 rows x 12 columns]>"
      ]
     },
     "execution_count": 18,
     "metadata": {},
     "output_type": "execute_result"
    }
   ],
   "source": [
    "df.info"
   ]
  },
  {
   "cell_type": "code",
   "execution_count": 19,
   "id": "bf58eaa0-0145-429d-b515-f66e598ab9bb",
   "metadata": {},
   "outputs": [
    {
     "data": {
      "text/plain": [
       "{'CLASS': ['First', 'Second', 'Third'], 'Frequency': [216, 184, 491]}"
      ]
     },
     "execution_count": 19,
     "metadata": {},
     "output_type": "execute_result"
    }
   ],
   "source": [
    "'''\n",
    "frequency_table = df.value_counts('Ticket')\n",
    "print (frequency_table)\n",
    "'''\n",
    "classes = {\"CLASS\":[], \"Frequency\":[]}\n",
    "countFirst = 0\n",
    "countSecond = 0\n",
    "countThird = 0\n",
    "for ticket in df[\"Pclass\"]:\n",
    "    if ticket == 1:\n",
    "        countFirst +=1\n",
    "    elif ticket == 2:\n",
    "        countSecond +=1\n",
    "    elif ticket == 3:\n",
    "        countThird +=1\n",
    "classes['CLASS'].append('First')\n",
    "classes['CLASS'].append('Second')\n",
    "classes['CLASS'].append('Third')\n",
    "classes['Frequency'].append(countFirst)\n",
    "classes['Frequency'].append(countSecond)\n",
    "classes['Frequency'].append(countThird)\n",
    "classes"
   ]
  },
  {
   "cell_type": "code",
   "execution_count": 20,
   "id": "927b8c3b-4ad4-4efa-9d87-178cc9b90190",
   "metadata": {},
   "outputs": [
    {
     "data": {
      "text/plain": [
       "Embarked\n",
       "S    72.440945\n",
       "C    18.897638\n",
       "Q     8.661417\n",
       "Name: proportion, dtype: float64"
      ]
     },
     "execution_count": 20,
     "metadata": {},
     "output_type": "execute_result"
    }
   ],
   "source": [
    "frequency_table_percentages = df['Embarked'].value_counts(normalize=True) * 100\n",
    "frequency_table_percentages\n"
   ]
  },
  {
   "cell_type": "code",
   "execution_count": 21,
   "id": "ba0160f5-6e46-4319-95e0-1990580bcbb3",
   "metadata": {},
   "outputs": [
    {
     "data": {
      "text/plain": [
       "PassengerId                   528\n",
       "Survived                        0\n",
       "Pclass                          1\n",
       "Name           Farthing, Mr. John\n",
       "Sex                          male\n",
       "Age                           NaN\n",
       "SibSp                           0\n",
       "Parch                           0\n",
       "Ticket                   PC 17483\n",
       "Fare                     221.7792\n",
       "Cabin                         C95\n",
       "Embarked                        S\n",
       "Name: 527, dtype: object"
      ]
     },
     "execution_count": 21,
     "metadata": {},
     "output_type": "execute_result"
    }
   ],
   "source": [
    "df.iloc [527]"
   ]
  },
  {
   "cell_type": "code",
   "execution_count": 22,
   "id": "2ccc8c86-2f86-4f97-80a0-8b0bf79a5aa8",
   "metadata": {},
   "outputs": [
    {
     "data": {
      "text/plain": [
       "528"
      ]
     },
     "execution_count": 22,
     "metadata": {},
     "output_type": "execute_result"
    }
   ],
   "source": [
    "ID528 = df.loc [[528], \"PassengerID\"] = 528\n",
    "ID528"
   ]
  },
  {
   "cell_type": "code",
   "execution_count": 23,
   "id": "c9229319-9c09-463b-a6dd-64122242aff5",
   "metadata": {},
   "outputs": [
    {
     "data": {
      "text/html": [
       "<div>\n",
       "<style scoped>\n",
       "    .dataframe tbody tr th:only-of-type {\n",
       "        vertical-align: middle;\n",
       "    }\n",
       "\n",
       "    .dataframe tbody tr th {\n",
       "        vertical-align: top;\n",
       "    }\n",
       "\n",
       "    .dataframe thead th {\n",
       "        text-align: right;\n",
       "    }\n",
       "</style>\n",
       "<table border=\"1\" class=\"dataframe\">\n",
       "  <thead>\n",
       "    <tr style=\"text-align: right;\">\n",
       "      <th></th>\n",
       "      <th>PassengerId</th>\n",
       "      <th>Survived</th>\n",
       "      <th>Pclass</th>\n",
       "      <th>Name</th>\n",
       "      <th>Sex</th>\n",
       "      <th>Age</th>\n",
       "      <th>SibSp</th>\n",
       "      <th>Parch</th>\n",
       "      <th>Ticket</th>\n",
       "      <th>Fare</th>\n",
       "      <th>Cabin</th>\n",
       "      <th>Embarked</th>\n",
       "      <th>PassengerID</th>\n",
       "    </tr>\n",
       "  </thead>\n",
       "  <tbody>\n",
       "    <tr>\n",
       "      <th>528</th>\n",
       "      <td>529</td>\n",
       "      <td>0</td>\n",
       "      <td>3</td>\n",
       "      <td>Salonen, Mr. Johan Werner</td>\n",
       "      <td>male</td>\n",
       "      <td>39.0</td>\n",
       "      <td>0</td>\n",
       "      <td>0</td>\n",
       "      <td>3101296</td>\n",
       "      <td>7.925</td>\n",
       "      <td>NaN</td>\n",
       "      <td>S</td>\n",
       "      <td>528.0</td>\n",
       "    </tr>\n",
       "  </tbody>\n",
       "</table>\n",
       "</div>"
      ],
      "text/plain": [
       "     PassengerId  Survived  Pclass                       Name   Sex   Age  \\\n",
       "528          529         0       3  Salonen, Mr. Johan Werner  male  39.0   \n",
       "\n",
       "     SibSp  Parch   Ticket   Fare Cabin Embarked  PassengerID  \n",
       "528      0      0  3101296  7.925   NaN        S        528.0  "
      ]
     },
     "execution_count": 23,
     "metadata": {},
     "output_type": "execute_result"
    }
   ],
   "source": [
    "df[df['PassengerID'] == 528]"
   ]
  },
  {
   "cell_type": "code",
   "execution_count": 24,
   "id": "3ec60c02-33e7-4739-ab23-eae08a8c348f",
   "metadata": {},
   "outputs": [
    {
     "data": {
      "text/plain": [
       "PassengerId                              707\n",
       "Survived                                   1\n",
       "Pclass                                     2\n",
       "Name           Kelly, Mrs. Florence \"Fannie\"\n",
       "Sex                                   female\n",
       "Age                                     45.0\n",
       "SibSp                                      0\n",
       "Parch                                      0\n",
       "Ticket                                223596\n",
       "Fare                                    13.5\n",
       "Cabin                                    NaN\n",
       "Embarked                                   S\n",
       "PassengerID                              NaN\n",
       "Name: 706, dtype: object"
      ]
     },
     "execution_count": 24,
     "metadata": {},
     "output_type": "execute_result"
    }
   ],
   "source": [
    "'''df[df['Name'] == 'Fannie']'''\n",
    "idx = 0\n",
    "for person in df['Name']:\n",
    "    if 'Fannie' in person:\n",
    "        break\n",
    "    idx += 1\n",
    "df.loc[idx]"
   ]
  },
  {
   "cell_type": "code",
   "execution_count": 25,
   "id": "681cfb1e-47b2-420f-ab4e-6bf25ea54cc1",
   "metadata": {},
   "outputs": [
    {
     "data": {
      "text/html": [
       "<div>\n",
       "<style scoped>\n",
       "    .dataframe tbody tr th:only-of-type {\n",
       "        vertical-align: middle;\n",
       "    }\n",
       "\n",
       "    .dataframe tbody tr th {\n",
       "        vertical-align: top;\n",
       "    }\n",
       "\n",
       "    .dataframe thead th {\n",
       "        text-align: right;\n",
       "    }\n",
       "</style>\n",
       "<table border=\"1\" class=\"dataframe\">\n",
       "  <thead>\n",
       "    <tr style=\"text-align: right;\">\n",
       "      <th>Survived</th>\n",
       "      <th>0</th>\n",
       "      <th>1</th>\n",
       "      <th>All</th>\n",
       "    </tr>\n",
       "    <tr>\n",
       "      <th>Sex</th>\n",
       "      <th></th>\n",
       "      <th></th>\n",
       "      <th></th>\n",
       "    </tr>\n",
       "  </thead>\n",
       "  <tbody>\n",
       "    <tr>\n",
       "      <th>female</th>\n",
       "      <td>81</td>\n",
       "      <td>233</td>\n",
       "      <td>314</td>\n",
       "    </tr>\n",
       "    <tr>\n",
       "      <th>male</th>\n",
       "      <td>468</td>\n",
       "      <td>109</td>\n",
       "      <td>577</td>\n",
       "    </tr>\n",
       "    <tr>\n",
       "      <th>All</th>\n",
       "      <td>549</td>\n",
       "      <td>342</td>\n",
       "      <td>891</td>\n",
       "    </tr>\n",
       "  </tbody>\n",
       "</table>\n",
       "</div>"
      ],
      "text/plain": [
       "Survived    0    1  All\n",
       "Sex                    \n",
       "female     81  233  314\n",
       "male      468  109  577\n",
       "All       549  342  891"
      ]
     },
     "execution_count": 25,
     "metadata": {},
     "output_type": "execute_result"
    }
   ],
   "source": [
    "Gender = 'Sex'\n",
    "Survival = 'Survived'\n",
    "contingency_table = pd.crosstab(df['Sex'],df['Survived'], margins = True)\n",
    "contingency_table"
   ]
  },
  {
   "cell_type": "code",
   "execution_count": 26,
   "id": "eb764984-cc95-43d4-95cb-e93de8189040",
   "metadata": {},
   "outputs": [
    {
     "data": {
      "text/html": [
       "<div>\n",
       "<style scoped>\n",
       "    .dataframe tbody tr th:only-of-type {\n",
       "        vertical-align: middle;\n",
       "    }\n",
       "\n",
       "    .dataframe tbody tr th {\n",
       "        vertical-align: top;\n",
       "    }\n",
       "\n",
       "    .dataframe thead th {\n",
       "        text-align: right;\n",
       "    }\n",
       "</style>\n",
       "<table border=\"1\" class=\"dataframe\">\n",
       "  <thead>\n",
       "    <tr style=\"text-align: right;\">\n",
       "      <th></th>\n",
       "      <th>Male</th>\n",
       "      <th>Female</th>\n",
       "    </tr>\n",
       "  </thead>\n",
       "  <tbody>\n",
       "    <tr>\n",
       "      <th>Survived</th>\n",
       "      <td>109</td>\n",
       "      <td>233</td>\n",
       "    </tr>\n",
       "    <tr>\n",
       "      <th>Died</th>\n",
       "      <td>468</td>\n",
       "      <td>81</td>\n",
       "    </tr>\n",
       "  </tbody>\n",
       "</table>\n",
       "</div>"
      ],
      "text/plain": [
       "          Male  Female\n",
       "Survived   109     233\n",
       "Died       468      81"
      ]
     },
     "execution_count": 26,
     "metadata": {},
     "output_type": "execute_result"
    }
   ],
   "source": [
    "maleSurvive = 0\n",
    "femaleSurvive = 0\n",
    "maleDied = 0\n",
    "femaleDied = 0\n",
    "for idx in range(len(df)):\n",
    "    if df.loc[idx]['Sex'] == 'male' and df.loc[idx]['Survived'] == 0:\n",
    "        maleDied += 1\n",
    "    elif df.loc[idx]['Sex'] == 'male' and df.loc[idx]['Survived'] == 1:\n",
    "        maleSurvive += 1\n",
    "    elif df.loc[idx]['Sex'] == 'female' and df.loc[idx]['Survived'] == 0:\n",
    "        femaleDied += 1\n",
    "    elif df.loc[idx]['Sex'] == 'female' and df.loc[idx]['Survived'] == 1:\n",
    "        femaleSurvive += 1\n",
    "conTable2 = pd.DataFrame ({\n",
    "    'Male': [maleSurvive, maleDied],\n",
    "    'Female': [femaleSurvive, femaleDied]\n",
    "})\n",
    "conTable2.index = ['Survived', 'Died']\n",
    "conTable2.head()"
   ]
  },
  {
   "cell_type": "code",
   "execution_count": 27,
   "id": "0cb03a8b-80bb-44c2-8f37-d7760263c614",
   "metadata": {},
   "outputs": [
    {
     "data": {
      "text/html": [
       "<div>\n",
       "<style scoped>\n",
       "    .dataframe tbody tr th:only-of-type {\n",
       "        vertical-align: middle;\n",
       "    }\n",
       "\n",
       "    .dataframe tbody tr th {\n",
       "        vertical-align: top;\n",
       "    }\n",
       "\n",
       "    .dataframe thead th {\n",
       "        text-align: right;\n",
       "    }\n",
       "</style>\n",
       "<table border=\"1\" class=\"dataframe\">\n",
       "  <thead>\n",
       "    <tr style=\"text-align: right;\">\n",
       "      <th></th>\n",
       "      <th>Minor</th>\n",
       "      <th>Adult</th>\n",
       "    </tr>\n",
       "  </thead>\n",
       "  <tbody>\n",
       "    <tr>\n",
       "      <th>Survived</th>\n",
       "      <td>61</td>\n",
       "      <td>229</td>\n",
       "    </tr>\n",
       "    <tr>\n",
       "      <th>Died</th>\n",
       "      <td>52</td>\n",
       "      <td>373</td>\n",
       "    </tr>\n",
       "  </tbody>\n",
       "</table>\n",
       "</div>"
      ],
      "text/plain": [
       "          Minor  Adult\n",
       "Survived     61    229\n",
       "Died         52    373"
      ]
     },
     "execution_count": 27,
     "metadata": {},
     "output_type": "execute_result"
    }
   ],
   "source": [
    "MinorSurvive = 0\n",
    "AdultSurvive = 0\n",
    "MinorDied = 0\n",
    "AdultDied = 0\n",
    "for idx in range(len(df)):\n",
    "    if df.loc[idx]['Age'] < 18 and df.loc[idx]['Survived'] == 0:\n",
    "        MinorDied += 1\n",
    "    elif df.loc[idx]['Age'] < 18 and df.loc[idx]['Survived'] == 1:\n",
    "        MinorSurvive += 1\n",
    "    elif df.loc[idx]['Age'] >= 18 and df.loc[idx]['Survived'] == 0:\n",
    "        AdultDied += 1\n",
    "    elif df.loc[idx]['Age'] >= 18 and df.loc[idx]['Survived'] == 1:\n",
    "        AdultSurvive += 1\n",
    "conTable = pd.DataFrame ({\n",
    "    'Minor': [MinorSurvive, MinorDied],\n",
    "    'Adult': [AdultSurvive, AdultDied]\n",
    "})\n",
    "conTable.index = ['Survived', 'Died']\n",
    "conTable.head()"
   ]
  },
  {
   "cell_type": "code",
   "execution_count": 28,
   "id": "c7c9ce1c-4ea8-4b9f-b3b0-f41969634487",
   "metadata": {},
   "outputs": [
    {
     "data": {
      "text/html": [
       "<div>\n",
       "<style scoped>\n",
       "    .dataframe tbody tr th:only-of-type {\n",
       "        vertical-align: middle;\n",
       "    }\n",
       "\n",
       "    .dataframe tbody tr th {\n",
       "        vertical-align: top;\n",
       "    }\n",
       "\n",
       "    .dataframe thead th {\n",
       "        text-align: right;\n",
       "    }\n",
       "</style>\n",
       "<table border=\"1\" class=\"dataframe\">\n",
       "  <thead>\n",
       "    <tr style=\"text-align: right;\">\n",
       "      <th></th>\n",
       "      <th>Minor</th>\n",
       "      <th>Adult</th>\n",
       "    </tr>\n",
       "  </thead>\n",
       "  <tbody>\n",
       "    <tr>\n",
       "      <th>Survived</th>\n",
       "      <td>53.982301</td>\n",
       "      <td>38.039867</td>\n",
       "    </tr>\n",
       "    <tr>\n",
       "      <th>Died</th>\n",
       "      <td>46.017699</td>\n",
       "      <td>61.960133</td>\n",
       "    </tr>\n",
       "  </tbody>\n",
       "</table>\n",
       "</div>"
      ],
      "text/plain": [
       "              Minor      Adult\n",
       "Survived  53.982301  38.039867\n",
       "Died      46.017699  61.960133"
      ]
     },
     "execution_count": 28,
     "metadata": {},
     "output_type": "execute_result"
    }
   ],
   "source": [
    "total = conTable.sum()\n",
    "RconTable = conTable / total * 100\n",
    "RconTable"
   ]
  },
  {
   "cell_type": "code",
   "execution_count": 29,
   "id": "1dc67287-dcb3-47d7-887c-31ca8f2fa65b",
   "metadata": {},
   "outputs": [
    {
     "data": {
      "text/html": [
       "<div>\n",
       "<style scoped>\n",
       "    .dataframe tbody tr th:only-of-type {\n",
       "        vertical-align: middle;\n",
       "    }\n",
       "\n",
       "    .dataframe tbody tr th {\n",
       "        vertical-align: top;\n",
       "    }\n",
       "\n",
       "    .dataframe thead th {\n",
       "        text-align: right;\n",
       "    }\n",
       "</style>\n",
       "<table border=\"1\" class=\"dataframe\">\n",
       "  <thead>\n",
       "    <tr style=\"text-align: right;\">\n",
       "      <th></th>\n",
       "      <th>Southampton</th>\n",
       "      <th>Queenstown</th>\n",
       "      <th>Cherbourg</th>\n",
       "    </tr>\n",
       "  </thead>\n",
       "  <tbody>\n",
       "    <tr>\n",
       "      <th>Survived</th>\n",
       "      <td>217</td>\n",
       "      <td>30</td>\n",
       "      <td>93</td>\n",
       "    </tr>\n",
       "    <tr>\n",
       "      <th>Died</th>\n",
       "      <td>427</td>\n",
       "      <td>47</td>\n",
       "      <td>75</td>\n",
       "    </tr>\n",
       "  </tbody>\n",
       "</table>\n",
       "</div>"
      ],
      "text/plain": [
       "          Southampton  Queenstown  Cherbourg\n",
       "Survived          217          30         93\n",
       "Died              427          47         75"
      ]
     },
     "execution_count": 29,
     "metadata": {},
     "output_type": "execute_result"
    }
   ],
   "source": [
    "sSurvive = 0\n",
    "qSurvive = 0\n",
    "cSurvive = 0\n",
    "sDied = 0\n",
    "qDied = 0\n",
    "cDied = 0\n",
    "for idx in range(len(df)):\n",
    "    if df.loc[idx]['Embarked'] == 'S' and df.loc[idx]['Survived'] == 0:\n",
    "        sDied += 1\n",
    "    elif df.loc[idx]['Embarked'] == 'S' and df.loc[idx]['Survived'] == 1:\n",
    "        sSurvive += 1\n",
    "    elif df.loc[idx]['Embarked'] == 'Q' and df.loc[idx]['Survived'] == 0:\n",
    "        qDied += 1\n",
    "    elif df.loc[idx]['Embarked'] == 'Q' and df.loc[idx]['Survived'] == 1:\n",
    "        qSurvive += 1\n",
    "    elif df.loc[idx]['Embarked'] == 'C' and df.loc[idx]['Survived'] == 1:\n",
    "        cSurvive += 1\n",
    "    elif df.loc[idx]['Embarked'] == 'C' and df.loc[idx]['Survived'] == 0:\n",
    "        cDied += 1\n",
    "conTable3 = pd.DataFrame ({\n",
    "    'Southampton': [sSurvive, sDied],\n",
    "    'Queenstown': [qSurvive, qDied],\n",
    "    'Cherbourg': [cSurvive, cDied]\n",
    "})\n",
    "conTable3.index = ['Survived', 'Died']\n",
    "conTable3.head()"
   ]
  },
  {
   "cell_type": "code",
   "execution_count": 30,
   "id": "ec135114-18bb-4465-afbd-296dec1d617a",
   "metadata": {},
   "outputs": [
    {
     "data": {
      "text/html": [
       "<div>\n",
       "<style scoped>\n",
       "    .dataframe tbody tr th:only-of-type {\n",
       "        vertical-align: middle;\n",
       "    }\n",
       "\n",
       "    .dataframe tbody tr th {\n",
       "        vertical-align: top;\n",
       "    }\n",
       "\n",
       "    .dataframe thead th {\n",
       "        text-align: right;\n",
       "    }\n",
       "</style>\n",
       "<table border=\"1\" class=\"dataframe\">\n",
       "  <thead>\n",
       "    <tr style=\"text-align: right;\">\n",
       "      <th></th>\n",
       "      <th>Southampton</th>\n",
       "      <th>Queenstown</th>\n",
       "      <th>Cherbourg</th>\n",
       "    </tr>\n",
       "  </thead>\n",
       "  <tbody>\n",
       "    <tr>\n",
       "      <th>Survived</th>\n",
       "      <td>33.695652</td>\n",
       "      <td>38.961039</td>\n",
       "      <td>55.357143</td>\n",
       "    </tr>\n",
       "    <tr>\n",
       "      <th>Died</th>\n",
       "      <td>66.304348</td>\n",
       "      <td>61.038961</td>\n",
       "      <td>44.642857</td>\n",
       "    </tr>\n",
       "  </tbody>\n",
       "</table>\n",
       "</div>"
      ],
      "text/plain": [
       "          Southampton  Queenstown  Cherbourg\n",
       "Survived    33.695652   38.961039  55.357143\n",
       "Died        66.304348   61.038961  44.642857"
      ]
     },
     "execution_count": 30,
     "metadata": {},
     "output_type": "execute_result"
    }
   ],
   "source": [
    "total = conTable3.sum()\n",
    "RconTable2 = conTable3 / total * 100\n",
    "RconTable2"
   ]
  },
  {
   "cell_type": "code",
   "execution_count": 31,
   "id": "afafd6ce-e7c8-4431-8cf2-22cac837832b",
   "metadata": {},
   "outputs": [],
   "source": [
    "import seaborn as sns"
   ]
  },
  {
   "cell_type": "code",
   "execution_count": 35,
   "id": "dbbca20c-a669-4644-939a-aee0574192bd",
   "metadata": {},
   "outputs": [],
   "source": [
    "survived = {\"First\": 0, \"Second\": 0, \"Third\": 0}\n",
    "died = {\"First\": 0, \"Second\": 0, \"Third\": 0}\n",
    "for idx in range(len(df)):\n",
    "    passengerClass = df.loc[idx][\"Pclass\"]\n",
    "    passengerSurvived = df.loc[idx][\"Survived\"]\n",
    "    if passengerClass == 1 and passengerSurvived == 1:\n",
    "        survived[\"First\"] += 1\n",
    "    elif passengerClass == 1 and passengerSurvived == 0:\n",
    "        died[\"First\"] += 1\n",
    "    elif passengerClass == 2 and passengerSurvived == 1:\n",
    "        survived[\"Second\"] += 1\n",
    "    elif passengerClass == 2 and passengerSurvived == 0:\n",
    "        died[\"Second\"] += 1\n",
    "    elif passengerClass == 3 and passengerSurvived == 1:\n",
    "        survived[\"Third\"] += 1\n",
    "    elif passengerClass == 3 and passengerSurvived == 0:\n",
    "        died[\"Third\"] += 1"
   ]
  },
  {
   "cell_type": "code",
   "execution_count": 70,
   "id": "57c1378f-3d2b-4b6a-8c4a-5c9812562089",
   "metadata": {},
   "outputs": [
    {
     "data": {
      "text/html": [
       "<div>\n",
       "<style scoped>\n",
       "    .dataframe tbody tr th:only-of-type {\n",
       "        vertical-align: middle;\n",
       "    }\n",
       "\n",
       "    .dataframe tbody tr th {\n",
       "        vertical-align: top;\n",
       "    }\n",
       "\n",
       "    .dataframe thead th {\n",
       "        text-align: right;\n",
       "    }\n",
       "</style>\n",
       "<table border=\"1\" class=\"dataframe\">\n",
       "  <thead>\n",
       "    <tr style=\"text-align: right;\">\n",
       "      <th></th>\n",
       "      <th>Classes</th>\n",
       "      <th>Survived</th>\n",
       "      <th>Died</th>\n",
       "    </tr>\n",
       "  </thead>\n",
       "  <tbody>\n",
       "    <tr>\n",
       "      <th>0</th>\n",
       "      <td>First</td>\n",
       "      <td>136</td>\n",
       "      <td>80</td>\n",
       "    </tr>\n",
       "    <tr>\n",
       "      <th>1</th>\n",
       "      <td>Second</td>\n",
       "      <td>87</td>\n",
       "      <td>97</td>\n",
       "    </tr>\n",
       "    <tr>\n",
       "      <th>2</th>\n",
       "      <td>Third</td>\n",
       "      <td>119</td>\n",
       "      <td>372</td>\n",
       "    </tr>\n",
       "  </tbody>\n",
       "</table>\n",
       "</div>"
      ],
      "text/plain": [
       "  Classes  Survived  Died\n",
       "0   First       136    80\n",
       "1  Second        87    97\n",
       "2   Third       119   372"
      ]
     },
     "execution_count": 70,
     "metadata": {},
     "output_type": "execute_result"
    }
   ],
   "source": [
    "classDF = {\n",
    "    \"Classes\": [\"First\", \"Second\", \"Third\"],\n",
    "    \"Survived\": [survived[\"First\"], survived[\"Second\"], survived[\"Third\"]],\n",
    "    \"Died\": [died[\"First\"], died[\"Second\"], died[\"Third\"]]\n",
    "}\n",
    "classDF = pd.DataFrame(classDF)\n",
    "classDF.head()"
   ]
  },
  {
   "cell_type": "code",
   "execution_count": 72,
   "id": "86cf8693-c39c-481f-b655-6944bacf6afc",
   "metadata": {},
   "outputs": [
    {
     "data": {
      "text/html": [
       "<div>\n",
       "<style scoped>\n",
       "    .dataframe tbody tr th:only-of-type {\n",
       "        vertical-align: middle;\n",
       "    }\n",
       "\n",
       "    .dataframe tbody tr th {\n",
       "        vertical-align: top;\n",
       "    }\n",
       "\n",
       "    .dataframe thead th {\n",
       "        text-align: right;\n",
       "    }\n",
       "</style>\n",
       "<table border=\"1\" class=\"dataframe\">\n",
       "  <thead>\n",
       "    <tr style=\"text-align: right;\">\n",
       "      <th></th>\n",
       "      <th>Classes</th>\n",
       "      <th>Survived</th>\n",
       "      <th>value</th>\n",
       "    </tr>\n",
       "  </thead>\n",
       "  <tbody>\n",
       "    <tr>\n",
       "      <th>0</th>\n",
       "      <td>First</td>\n",
       "      <td>Survived</td>\n",
       "      <td>136</td>\n",
       "    </tr>\n",
       "    <tr>\n",
       "      <th>1</th>\n",
       "      <td>Second</td>\n",
       "      <td>Survived</td>\n",
       "      <td>87</td>\n",
       "    </tr>\n",
       "    <tr>\n",
       "      <th>2</th>\n",
       "      <td>Third</td>\n",
       "      <td>Survived</td>\n",
       "      <td>119</td>\n",
       "    </tr>\n",
       "    <tr>\n",
       "      <th>3</th>\n",
       "      <td>First</td>\n",
       "      <td>Died</td>\n",
       "      <td>80</td>\n",
       "    </tr>\n",
       "    <tr>\n",
       "      <th>4</th>\n",
       "      <td>Second</td>\n",
       "      <td>Died</td>\n",
       "      <td>97</td>\n",
       "    </tr>\n",
       "  </tbody>\n",
       "</table>\n",
       "</div>"
      ],
      "text/plain": [
       "  Classes  Survived  value\n",
       "0   First  Survived    136\n",
       "1  Second  Survived     87\n",
       "2   Third  Survived    119\n",
       "3   First      Died     80\n",
       "4  Second      Died     97"
      ]
     },
     "execution_count": 72,
     "metadata": {},
     "output_type": "execute_result"
    }
   ],
   "source": [
    "classDF = pd.melt(classDF, id_vars=\"Classes\")\n",
    "classDF = classDF.rename(columns={\"variable\": \"Survived\"})\n",
    "classDF.head()"
   ]
  },
  {
   "cell_type": "code",
   "execution_count": 74,
   "id": "47e3b7ba-5083-4904-bedc-b005537a0f55",
   "metadata": {},
   "outputs": [
    {
     "data": {
      "text/plain": [
       "<seaborn.axisgrid.FacetGrid at 0x1a749eea9f0>"
      ]
     },
     "execution_count": 74,
     "metadata": {},
     "output_type": "execute_result"
    },
    {
     "data": {
      "image/png": "[encoded data removed]",
      "text/plain": [
       "<Figure size 611x500 with 1 Axes>"
      ]
     },
     "metadata": {},
     "output_type": "display_data"
    }
   ],
   "source": [
    "sns.catplot(data = classDF, x=\"Classes\", y=\"value\", hue=\"Survived\", kind=\"bar\")"
   ]
  },
  {
   "cell_type": "code",
   "execution_count": 76,
   "id": "61276118-094a-4927-b148-40d4af54b350",
   "metadata": {},
   "outputs": [
    {
     "data": {
      "text/html": [
       "<div>\n",
       "<style scoped>\n",
       "    .dataframe tbody tr th:only-of-type {\n",
       "        vertical-align: middle;\n",
       "    }\n",
       "\n",
       "    .dataframe tbody tr th {\n",
       "        vertical-align: top;\n",
       "    }\n",
       "\n",
       "    .dataframe thead th {\n",
       "        text-align: right;\n",
       "    }\n",
       "</style>\n",
       "<table border=\"1\" class=\"dataframe\">\n",
       "  <thead>\n",
       "    <tr style=\"text-align: right;\">\n",
       "      <th></th>\n",
       "      <th>Classes</th>\n",
       "      <th>Percent</th>\n",
       "    </tr>\n",
       "  </thead>\n",
       "  <tbody>\n",
       "    <tr>\n",
       "      <th>0</th>\n",
       "      <td>First</td>\n",
       "      <td>24.242424</td>\n",
       "    </tr>\n",
       "    <tr>\n",
       "      <th>1</th>\n",
       "      <td>Second</td>\n",
       "      <td>20.650954</td>\n",
       "    </tr>\n",
       "    <tr>\n",
       "      <th>2</th>\n",
       "      <td>Third</td>\n",
       "      <td>55.106622</td>\n",
       "    </tr>\n",
       "  </tbody>\n",
       "</table>\n",
       "</div>"
      ],
      "text/plain": [
       "  Classes    Percent\n",
       "0   First  24.242424\n",
       "1  Second  20.650954\n",
       "2   Third  55.106622"
      ]
     },
     "execution_count": 76,
     "metadata": {},
     "output_type": "execute_result"
    }
   ],
   "source": [
    "passengerClasses = {\"First\": 0, \"Second\": 0, \"Third\": 0}\n",
    "for passenger in df[\"Pclass\"]:\n",
    "    if passenger == 1:\n",
    "        passengerClasses[\"First\"] += 1\n",
    "    elif passenger == 2:\n",
    "        passengerClasses[\"Second\"] += 1\n",
    "    elif passenger == 3:\n",
    "        passengerClasses[\"Third\"] += 1\n",
    "percentClasses = {\"First\": (passengerClasses[\"First\"]/len(df))*100,\n",
    "                 \"Second\": (passengerClasses[\"Second\"]/len(df)*100),\n",
    "                 \"Third\": (passengerClasses[\"Third\"]/len(df)*100)\n",
    "                 }\n",
    "freqTable = {\n",
    "    \"Classes\": [\"First\", \"Second\", \"Third\"],\n",
    "    \"Percent\": [percentClasses[\"First\"], \n",
    "                percentClasses[\"Second\"],\n",
    "                percentClasses[\"Third\"]]\n",
    "}\n",
    "freqTable = pd.DataFrame(freqTable)\n",
    "freqTable.head()"
   ]
  },
  {
   "cell_type": "code",
   "execution_count": 78,
   "id": "4e1ee724-550f-496c-811a-acf2ef16e4da",
   "metadata": {},
   "outputs": [
    {
     "data": {
      "text/plain": [
       "<Axes: xlabel='Classes', ylabel='Percent'>"
      ]
     },
     "execution_count": 78,
     "metadata": {},
     "output_type": "execute_result"
    },
    {
     "data": {
      "image/png": "[encoded data removed]",
      "text/plain": [
       "<Figure size 640x480 with 1 Axes>"
      ]
     },
     "metadata": {},
     "output_type": "display_data"
    }
   ],
   "source": [
    "sns.barplot(data=freqTable, x=\"Classes\", y=\"Percent\")"
   ]
  },
  {
   "cell_type": "code",
   "execution_count": null,
   "id": "34285384-87fc-4029-aa68-0cdc1f1306cd",
   "metadata": {},
   "outputs": [],
   "source": []
  }
 ],
 "metadata": {
  "kernelspec": {
   "display_name": "Python 3 (ipykernel)",
   "language": "python",
   "name": "python3"
  },
  "language_info": {
   "codemirror_mode": {
    "name": "ipython",
    "version": 3
   },
   "file_extension": ".py",
   "mimetype": "text/x-python",
   "name": "python",
   "nbconvert_exporter": "python",
   "pygments_lexer": "ipython3",
   "version": "3.12.4"
  }
 },
 "nbformat": 4,
 "nbformat_minor": 5
}
