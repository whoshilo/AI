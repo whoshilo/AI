{
 "cells": [
  {
   "cell_type": "code",
   "execution_count": 7,
   "id": "d8553392-ce7b-41ce-a51c-a02f4ab9b027",
   "metadata": {},
   "outputs": [],
   "source": [
    "import pandas as pd"
   ]
  },
  {
   "cell_type": "code",
   "execution_count": 21,
   "id": "ccfa5177-863a-46e9-8894-5888cd4c484c",
   "metadata": {},
   "outputs": [],
   "source": [
    "df = pd.read_csv(\"titanic.csv\")"
   ]
  },
  {
   "cell_type": "code",
   "execution_count": 23,
   "id": "c3cb57b2-1d78-4f60-a351-d887d84397cd",
   "metadata": {},
   "outputs": [
    {
     "data": {
      "text/plain": [
       "Index(['PassengerId', 'Survived', 'Pclass', 'Name', 'Sex', 'Age', 'SibSp',\n",
       "       'Parch', 'Ticket', 'Fare', 'Cabin', 'Embarked'],\n",
       "      dtype='object')"
      ]
     },
     "execution_count": 23,
     "metadata": {},
     "output_type": "execute_result"
    }
   ],
   "source": [
    "df.columns"
   ]
  },
  {
   "cell_type": "code",
   "execution_count": 25,
   "id": "6c00c8e9-2556-46ff-b1d4-355d0c79d028",
   "metadata": {},
   "outputs": [
    {
     "data": {
      "text/plain": [
       "PassengerId                  100\n",
       "Survived                       0\n",
       "Pclass                         2\n",
       "Name           Kantor, Mr. Sinai\n",
       "Sex                         male\n",
       "Age                         34.0\n",
       "SibSp                          1\n",
       "Parch                          0\n",
       "Ticket                    244367\n",
       "Fare                        26.0\n",
       "Cabin                        NaN\n",
       "Embarked                       S\n",
       "Name: 99, dtype: object"
      ]
     },
     "execution_count": 25,
     "metadata": {},
     "output_type": "execute_result"
    }
   ],
   "source": [
    "df.iloc [99]"
   ]
  },
  {
   "cell_type": "code",
   "execution_count": 29,
   "id": "a816e0e1-84e3-45ea-bd80-7a27b70013f5",
   "metadata": {},
   "outputs": [
    {
     "data": {
      "text/plain": [
       "PassengerId                              18\n",
       "Survived                                  1\n",
       "Pclass                                    2\n",
       "Name           Williams, Mr. Charles Eugene\n",
       "Sex                                    male\n",
       "Age                                     NaN\n",
       "SibSp                                     0\n",
       "Parch                                     0\n",
       "Ticket                               244373\n",
       "Fare                                   13.0\n",
       "Cabin                                   NaN\n",
       "Embarked                                  S\n",
       "Name: 17, dtype: object"
      ]
     },
     "execution_count": 29,
     "metadata": {},
     "output_type": "execute_result"
    }
   ],
   "source": [
    "df.iloc [17]"
   ]
  },
  {
   "cell_type": "code",
   "execution_count": null,
   "id": "35dbdd30-f54c-4202-abfb-e2d8dc09e996",
   "metadata": {},
   "outputs": [],
   "source": []
  }
 ],
 "metadata": {
  "kernelspec": {
   "display_name": "Python 3 (ipykernel)",
   "language": "python",
   "name": "python3"
  },
  "language_info": {
   "codemirror_mode": {
    "name": "ipython",
    "version": 3
   },
   "file_extension": ".py",
   "mimetype": "text/x-python",
   "name": "python",
   "nbconvert_exporter": "python",
   "pygments_lexer": "ipython3",
   "version": "3.12.4"
  }
 },
 "nbformat": 4,
 "nbformat_minor": 5
}
