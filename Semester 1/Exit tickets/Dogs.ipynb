{
 "cells": [
  {
   "cell_type": "code",
   "execution_count": 1,
   "id": "5af3efb4-39cc-44c4-80cd-99c8c626c955",
   "metadata": {},
   "outputs": [],
   "source": [
    "import pandas as pd"
   ]
  },
  {
   "cell_type": "code",
   "execution_count": 5,
   "id": "cd711530-87f7-4d06-92d2-d89b4c94706c",
   "metadata": {},
   "outputs": [],
   "source": [
    "df = pd.read_csv ('dogs.csv')"
   ]
  },
  {
   "cell_type": "code",
   "execution_count": 7,
   "id": "1bb2a4c1-abfe-4ba4-bfc4-fad951144d24",
   "metadata": {},
   "outputs": [
    {
     "data": {
      "text/plain": [
       "<bound method DataFrame.info of          ID            name    age     sex                           breed  \\\n",
       "0     23807            Gida   0.25  female                     Unknown Mix   \n",
       "1       533  Frida És Ricsi   0.17  female                     Unknown Mix   \n",
       "2     23793             NaN   4.00    male                     Unknown Mix   \n",
       "3     23795             NaN   1.00    male                     Unknown Mix   \n",
       "4     23806             Amy   2.00  female              French Bulldog Mix   \n",
       "...     ...             ...    ...     ...                             ...   \n",
       "2932    118           Fodri  16.92    male                     Unknown Mix   \n",
       "2933    262           Csibi  17.33  female       Staffordshire Terrier Mix   \n",
       "2934      4          Konrád  18.17    male                     Unknown Mix   \n",
       "2935    141           Kölni  17.17    male                     Unknown Mix   \n",
       "2936    248          Kedves  16.08    male  German Shepherd Dog, Hound Mix   \n",
       "\n",
       "      date_found adoptable_from      posted            color    coat    size  \\\n",
       "0     2019-12-10     2019-12-11  2019-12-11              red   short   small   \n",
       "1     2019-12-01     2019-12-01  2019-12-09  black and white   short   small   \n",
       "2     2019-12-08     2019-12-23  2019-12-08      saddle back   short  medium   \n",
       "3     2019-12-08     2019-12-23  2019-12-08     yellow-brown  medium  medium   \n",
       "4     2019-12-10     2019-12-11  2019-12-11            black   short   small   \n",
       "...          ...            ...         ...              ...     ...     ...   \n",
       "2932  2003-12-25     2003-12-25  2006-03-22     yellow-brown   short  medium   \n",
       "2933  2004-08-27     2004-08-27  2005-07-08          striped   short   large   \n",
       "2934  2005-09-21     2005-09-21  2005-10-26            black   short  medium   \n",
       "2935  2004-11-27     2004-11-27  2005-05-02  black and brown  medium  medium   \n",
       "2936  2005-04-02     2005-04-02  2005-06-30            sable   short  medium   \n",
       "\n",
       "     neutered housebroken likes_people likes_children get_along_males  \\\n",
       "0          no         NaN          NaN            NaN             NaN   \n",
       "1          no         NaN          yes            yes             yes   \n",
       "2          no         NaN          NaN            NaN             NaN   \n",
       "3          no         NaN          NaN            NaN             NaN   \n",
       "4          no         NaN          NaN            NaN             NaN   \n",
       "...       ...         ...          ...            ...             ...   \n",
       "2932       no          no          yes            yes              no   \n",
       "2933      yes         NaN          NaN            NaN             NaN   \n",
       "2934       no         NaN          NaN            NaN             NaN   \n",
       "2935       no         NaN          NaN            NaN             NaN   \n",
       "2936      yes         NaN          yes            NaN             yes   \n",
       "\n",
       "     get_along_females get_along_cats               keep_in  \n",
       "0                  NaN            NaN                   NaN  \n",
       "1                  yes            yes                   NaN  \n",
       "2                  NaN            NaN                   NaN  \n",
       "3                  NaN            NaN                   NaN  \n",
       "4                  NaN            NaN                   NaN  \n",
       "...                ...            ...                   ...  \n",
       "2932               yes             no                garden  \n",
       "2933               NaN            NaN                   NaN  \n",
       "2934               NaN            NaN                   NaN  \n",
       "2935               NaN            NaN                   NaN  \n",
       "2936               yes            NaN  both flat and garden  \n",
       "\n",
       "[2937 rows x 19 columns]>"
      ]
     },
     "execution_count": 7,
     "metadata": {},
     "output_type": "execute_result"
    }
   ],
   "source": [
    "df.info"
   ]
  },
  {
   "cell_type": "code",
   "execution_count": 9,
   "id": "ec7befc5-6039-47ee-9fcc-3f28d5005880",
   "metadata": {},
   "outputs": [
    {
     "data": {
      "text/plain": [
       "ID                          23757\n",
       "name                         Vlad\n",
       "age                          0.17\n",
       "sex                          male\n",
       "breed                 Unknown Mix\n",
       "date_found             2019-11-27\n",
       "adoptable_from         2019-12-12\n",
       "posted                 2019-11-27\n",
       "color                yellow-brown\n",
       "coat                        short\n",
       "size                        small\n",
       "neutered                       no\n",
       "housebroken                   NaN\n",
       "likes_people                  NaN\n",
       "likes_children                NaN\n",
       "get_along_males               NaN\n",
       "get_along_females             NaN\n",
       "get_along_cats                NaN\n",
       "keep_in                       NaN\n",
       "Name: 64, dtype: object"
      ]
     },
     "execution_count": 9,
     "metadata": {},
     "output_type": "execute_result"
    }
   ],
   "source": [
    "df.iloc[64]"
   ]
  },
  {
   "cell_type": "code",
   "execution_count": null,
   "id": "a3de6e00-9f76-4bcc-8570-1b803e76f72d",
   "metadata": {},
   "outputs": [],
   "source": []
  }
 ],
 "metadata": {
  "kernelspec": {
   "display_name": "Python 3 (ipykernel)",
   "language": "python",
   "name": "python3"
  },
  "language_info": {
   "codemirror_mode": {
    "name": "ipython",
    "version": 3
   },
   "file_extension": ".py",
   "mimetype": "text/x-python",
   "name": "python",
   "nbconvert_exporter": "python",
   "pygments_lexer": "ipython3",
   "version": "3.12.4"
  }
 },
 "nbformat": 4,
 "nbformat_minor": 5
}
