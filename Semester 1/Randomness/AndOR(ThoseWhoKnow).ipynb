{
 "cells": [
  {
   "cell_type": "markdown",
   "id": "35836e91-7bff-4181-b67e-0948c2dc219e",
   "metadata": {},
   "source": [
    "P(A U B) = P(A) + P(B)"
   ]
  },
  {
   "cell_type": "markdown",
   "id": "a06ebbc1-d540-4227-9d7d-064b207dda23",
   "metadata": {},
   "source": [
    "P(O-) = .066\n",
    "\n",
    "P(AB-) =.006\n",
    "\n",
    "P(O- U AB-) = 0.072 or 7.2%\n",
    "\n",
    "P(A+) = 35.7% or .357"
   ]
  },
  {
   "cell_type": "code",
   "execution_count": 6,
   "id": "a9295202-ded3-425c-8d51-1a27863851b8",
   "metadata": {},
   "outputs": [],
   "source": [
    "import random"
   ]
  },
  {
   "cell_type": "code",
   "execution_count": 7,
   "id": "e47546cd-872a-4760-8cc2-9bbd801fd36c",
   "metadata": {},
   "outputs": [
    {
     "name": "stdout",
     "output_type": "stream",
     "text": [
      "0.598\n"
     ]
    }
   ],
   "source": [
    "rounds = 0\n",
    "ON = 0\n",
    "ABN = 0\n",
    "trials = 1000000\n",
    "while rounds < trials:\n",
    "    num = random.randint(1,10000)\n",
    "    if num <= 66:\n",
    "        ON += 1\n",
    "    if num > 66 and num <=72:\n",
    "        ABN += 1\n",
    "    rounds += 1\n",
    "\n",
    "print(str((ABN/trials) * 1000))"
   ]
  },
  {
   "cell_type": "code",
   "execution_count": 8,
   "id": "45d9558a-4f59-4fd7-9859-1c3889b41f7f",
   "metadata": {},
   "outputs": [
    {
     "name": "stdout",
     "output_type": "stream",
     "text": [
      "6.579\n"
     ]
    }
   ],
   "source": [
    "rounds = 0\n",
    "ON = 0\n",
    "ABN = 0\n",
    "trials = 1000000\n",
    "while rounds < trials:\n",
    "    num = random.randint(1,10000)\n",
    "    if num <= 66:\n",
    "        ON += 1\n",
    "    if num > 66 and num <=72:\n",
    "        ABN += 1\n",
    "    rounds += 1\n",
    "\n",
    "print(str((ON/trials) * 1000))"
   ]
  },
  {
   "cell_type": "code",
   "execution_count": 9,
   "id": "62562098-4cd4-4f30-a0b5-edc7c7e750b0",
   "metadata": {},
   "outputs": [
    {
     "name": "stdout",
     "output_type": "stream",
     "text": [
      "42.451\n"
     ]
    }
   ],
   "source": [
    "rounds = 0\n",
    "TargBld = 0\n",
    "trials = 1000000\n",
    "while rounds < trials:\n",
    "    num = random.randint(1,10000)\n",
    "    if (num <= 357) or (num > 357 and num <=423) or ():\n",
    "        TargBld += 1\n",
    "    rounds += 1\n",
    "\n",
    "print(str((TargBld/trials) * 1000))"
   ]
  },
  {
   "cell_type": "code",
   "execution_count": 10,
   "id": "a50d4460-22b7-4d97-a685-11bd2fff835d",
   "metadata": {},
   "outputs": [
    {
     "name": "stdout",
     "output_type": "stream",
     "text": [
      "6.6049999999999995\n"
     ]
    }
   ],
   "source": [
    "rounds = 0\n",
    "ON = 0\n",
    "AP = 0\n",
    "trials = 1000000\n",
    "while rounds < trials:\n",
    "    num = random.randint(1,10000)\n",
    "    if num <= 357:\n",
    "        ON += 1\n",
    "    if num > 357 and num <=423:\n",
    "        AP += 1\n",
    "    rounds += 1\n",
    "\n",
    "print(str((AP/trials) * 1000))"
   ]
  },
  {
   "cell_type": "code",
   "execution_count": 11,
   "id": "46a05383-9edf-416f-b8fc-49e33f937034",
   "metadata": {},
   "outputs": [
    {
     "name": "stdout",
     "output_type": "stream",
     "text": [
      "6.532\n"
     ]
    }
   ],
   "source": [
    "rounds = 0\n",
    "ON = 0\n",
    "AP = 0\n",
    "trials = 1000000\n",
    "while rounds < trials:\n",
    "    num = random.randint(14,10000)\n",
    "    if num <= 357:\n",
    "        ON += 1\n",
    "    if num > 357 and num <=423:\n",
    "        AP += 1\n",
    "    rounds += 1\n",
    "\n",
    "print(str((AP/trials) * 1000))"
   ]
  },
  {
   "cell_type": "markdown",
   "id": "bbbbcd50-40f3-44f8-9782-b84414105acb",
   "metadata": {},
   "source": [
    "P()"
   ]
  },
  {
   "cell_type": "code",
   "execution_count": 57,
   "id": "0de80ced-24f3-45d1-8fb0-b5fe81559a85",
   "metadata": {},
   "outputs": [
    {
     "name": "stdout",
     "output_type": "stream",
     "text": [
      "13.0\n"
     ]
    }
   ],
   "source": [
    "rounds = 0\n",
    "KoQ = 0\n",
    "trials = 1000\n",
    "while rounds < trials:\n",
    "    num = random.randint(8,52)\n",
    "    if num <=8:\n",
    "        KoQ += 1\n",
    "    rounds += 1\n",
    "\n",
    "print(str((KoQ/trials) * 1000))"
   ]
  },
  {
   "cell_type": "code",
   "execution_count": null,
   "id": "8e1ca2f0-fcee-4cda-8a73-2296a3f1c9ff",
   "metadata": {},
   "outputs": [],
   "source": []
  },
  {
   "cell_type": "code",
   "execution_count": null,
   "id": "9e9564ad-b81c-4b60-8f96-a628ad333f3e",
   "metadata": {},
   "outputs": [],
   "source": []
  }
 ],
 "metadata": {
  "kernelspec": {
   "display_name": "Python 3 (ipykernel)",
   "language": "python",
   "name": "python3"
  },
  "language_info": {
   "codemirror_mode": {
    "name": "ipython",
    "version": 3
   },
   "file_extension": ".py",
   "mimetype": "text/x-python",
   "name": "python",
   "nbconvert_exporter": "python",
   "pygments_lexer": "ipython3",
   "version": "3.12.4"
  }
 },
 "nbformat": 4,
 "nbformat_minor": 5
}
