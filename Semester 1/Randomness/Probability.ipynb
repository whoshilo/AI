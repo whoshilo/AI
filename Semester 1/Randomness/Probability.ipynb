{
 "cells": [
  {
   "cell_type": "markdown",
   "id": "fe119a25-a3f8-43c7-bab6-1190cb2e0b5b",
   "metadata": {},
   "source": [
    "P(E) = (number of outcomes in *event* E)/(total number of outcomes in *sample space*)"
   ]
  },
  {
   "cell_type": "markdown",
   "id": "d6fdc908-18bd-458c-8b60-6df0e6977473",
   "metadata": {},
   "source": [
    "The theoretical probability for eating a hot chip is 17%, 1 in 6 chance to be a hot chip\n",
    "P(Hot Chip) = .167 or 16.7%"
   ]
  },
  {
   "cell_type": "code",
   "execution_count": 4,
   "id": "e3845a76-78a4-44ea-816c-e5d1e7d10ac3",
   "metadata": {},
   "outputs": [],
   "source": [
    "import random"
   ]
  },
  {
   "cell_type": "code",
   "execution_count": 6,
   "id": "f8ed0f11-e3e3-4e14-820c-7beef221cdfa",
   "metadata": {},
   "outputs": [
    {
     "name": "stdout",
     "output_type": "stream",
     "text": [
      "Estimated probability of drawing at least one spicy chip: 100.0%\n"
     ]
    }
   ],
   "source": [
    "def bag(trials=10000, chip_count=108, spicy_prob=1/6):\n",
    "    spicy_chip = 0\n",
    "\n",
    "    for _ in range(trials):\n",
    "        spicy = False\n",
    "        for _ in range(chip_count):\n",
    "            if random.random() < spicy_prob:\n",
    "                spicy = True\n",
    "                break\n",
    "        if spicy:\n",
    "            spicy_chip += 1\n",
    "    est_prob = spicy_chip / trials\n",
    "    return est_prob\n",
    "\n",
    "est_prob = bag()\n",
    "print(\"Estimated probability of drawing at least one spicy chip: \" + str(round(est_prob * 100, 2)) + \"%\")\n"
   ]
  },
  {
   "cell_type": "code",
   "execution_count": 8,
   "id": "19efcdff-c455-4f53-aead-fedec934b2d7",
   "metadata": {},
   "outputs": [
    {
     "name": "stdout",
     "output_type": "stream",
     "text": [
      "0.147\n"
     ]
    }
   ],
   "source": [
    "rounds = 0\n",
    "Hot_Chip = 0\n",
    "trials = 1000\n",
    "while rounds < 1000:\n",
    "    num = random.randint(1,6)\n",
    "    if num == 1:\n",
    "        Hot_Chip += 1 \n",
    "    rounds += 1\n",
    "\n",
    "print(str((Hot_Chip/trials)))"
   ]
  },
  {
   "cell_type": "markdown",
   "id": "5f9266fb-7362-4cd9-af1d-12831f82292e",
   "metadata": {},
   "source": [
    "The theoretical probability for birthdays 366 is 6.3%, 1 in 6 chance to be a hot chip\n",
    "P(SameBirth) = 0.063 or 6.3%"
   ]
  },
  {
   "cell_type": "code",
   "execution_count": 13,
   "id": "2b9dd20c-34aa-440c-9c27-5506eab1ee0b",
   "metadata": {},
   "outputs": [
    {
     "name": "stdout",
     "output_type": "stream",
     "text": [
      "Estimated probability of at least one shared birthday in a group of 23 people: 51.60%\n"
     ]
    }
   ],
   "source": [
    "def simulate_shared_birthday(trials=1000, people=23, days_in_year=365):\n",
    "    shared_birthday_count = 0  # Count trials with at least one shared birthday\n",
    "\n",
    "    for _ in range(trials):\n",
    "        # Generate random birthdays for each person in the group\n",
    "        birthdays = [random.randint(1, days_in_year) for _ in range(people)]\n",
    "        \n",
    "        # Check if there is any duplicate in the list of birthdays\n",
    "        if len(birthdays) != len(set(birthdays)):\n",
    "            shared_birthday_count += 1\n",
    "\n",
    "    # Calculate the estimated probability\n",
    "    estimated_probability = shared_birthday_count / trials\n",
    "    return estimated_probability\n",
    "\n",
    "# Run the simulation\n",
    "estimated_probability = simulate_shared_birthday()\n",
    "print(\"Estimated probability of at least one shared birthday in a group of 23 people: {:.2%}\".format(estimated_probability))\n"
   ]
  },
  {
   "cell_type": "markdown",
   "id": "1f2e982f-9698-4462-9041-b775bba4817d",
   "metadata": {},
   "source": [
    "My empirical value is __NOT EVEN CLOSE__ to my theoretical value of 6.3% "
   ]
  },
  {
   "cell_type": "code",
   "execution_count": 100,
   "id": "9ae67017-917b-4e83-9b4b-3b6e7922dac8",
   "metadata": {},
   "outputs": [
    {
     "name": "stdout",
     "output_type": "stream",
     "text": [
      "0.07\n"
     ]
    }
   ],
   "source": [
    "rounds = 0\n",
    "queen = 0\n",
    "trials = 1000\n",
    "while rounds < 1000:\n",
    "    num = random.randint(1,54)\n",
    "    if num == 1 or num == 2 or num == 3 or num == 4:\n",
    "        queen += 1 \n",
    "    rounds += 1\n",
    "\n",
    "print(str((queen/trials)))"
   ]
  },
  {
   "cell_type": "code",
   "execution_count": null,
   "id": "fedc5c4b-3f7a-4533-b14b-811a1074df85",
   "metadata": {},
   "outputs": [],
   "source": []
  },
  {
   "cell_type": "code",
   "execution_count": null,
   "id": "69f116f4-9b64-444c-a1ab-3aa12c522b0e",
   "metadata": {},
   "outputs": [],
   "source": []
  }
 ],
 "metadata": {
  "kernelspec": {
   "display_name": "Python 3 (ipykernel)",
   "language": "python",
   "name": "python3"
  },
  "language_info": {
   "codemirror_mode": {
    "name": "ipython",
    "version": 3
   },
   "file_extension": ".py",
   "mimetype": "text/x-python",
   "name": "python",
   "nbconvert_exporter": "python",
   "pygments_lexer": "ipython3",
   "version": "3.12.4"
  }
 },
 "nbformat": 4,
 "nbformat_minor": 5
}
