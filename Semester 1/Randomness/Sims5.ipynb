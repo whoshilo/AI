{
 "cells": [
  {
   "cell_type": "code",
   "execution_count": 11,
   "id": "ace957f5-adf9-4caa-a638-e6aff2bc98e3",
   "metadata": {},
   "outputs": [],
   "source": [
    "import random as randy"
   ]
  },
  {
   "cell_type": "code",
   "execution_count": 13,
   "id": "080f1ec9-f695-422e-9531-a1df8098afc4",
   "metadata": {},
   "outputs": [
    {
     "data": {
      "text/plain": [
       "5638950966"
      ]
     },
     "execution_count": 13,
     "metadata": {},
     "output_type": "execute_result"
    }
   ],
   "source": [
    "randy.randint(0 , 10000000000)"
   ]
  },
  {
   "cell_type": "code",
   "execution_count": 15,
   "id": "f76c89b9-5107-4e12-8d32-3ec1e2ce56fe",
   "metadata": {},
   "outputs": [
    {
     "data": {
      "text/plain": [
       "9722860679"
      ]
     },
     "execution_count": 15,
     "metadata": {},
     "output_type": "execute_result"
    }
   ],
   "source": [
    "randy.randint(0 , 10000000000)"
   ]
  },
  {
   "cell_type": "code",
   "execution_count": 17,
   "id": "25bdac67-ee8f-4b23-95ca-703ef2be778f",
   "metadata": {},
   "outputs": [],
   "source": [
    "def beanie_babies(trials):\n",
    "    '''\n",
    "    This function returns the average number of happy meals one would need\n",
    "    to buy in order to get all 10 teanie beanies from the 1997 McDonalds\n",
    "    happy meal compaign.\n",
    "    '''\n",
    "    count = 0\n",
    "    beanies = []\n",
    "    avg = 0\n",
    "    while count < trials:\n",
    "        while len(beanies) < 10:\n",
    "            num = randy.randint(1, 3)\n",
    "            if num not in beanies:\n",
    "                beanies.append(num)\n",
    "            if len(beanies) == 3:\n",
    "                avg = avg + count\n",
    "            count += 1\n",
    "    return avg/trials"
   ]
  },
  {
   "cell_type": "code",
   "execution_count": null,
   "id": "e1363230-1cf8-4e2e-bdb1-abfdb4ce093b",
   "metadata": {},
   "outputs": [],
   "source": [
    "beanie_babies(10)"
   ]
  },
  {
   "cell_type": "code",
   "execution_count": 5,
   "id": "a90329b7-72ed-4415-a7e0-c5c5be0b0f3b",
   "metadata": {},
   "outputs": [
    {
     "name": "stdout",
     "output_type": "stream",
     "text": [
      "Game 1: Dodgers win!\n",
      "Game 2: Yankees win!\n",
      "Game 3: Dodgers win!\n",
      "Game 4: Yankees win!\n",
      "Game 5: Yankees win!\n",
      "Game 6: Yankees win!\n",
      "Dodgers win the World Series!\n"
     ]
    }
   ],
   "source": [
    "#Ai Response\n",
    "import random\n",
    "\n",
    "def simulate_game(home_win_chance=0.55):\n",
    "    # Simulate a single game based on home win probability\n",
    "    return random.random() < home_win_chance\n",
    "\n",
    "def predict_world_series():\n",
    "    # Initialize win counters for both teams\n",
    "    y_wins = 0\n",
    "    d_wins = 0\n",
    "    games_played = 0\n",
    "\n",
    "    # Keep playing games until one team reaches 4 wins\n",
    "    while y_wins < 4 and d_wins < 4:\n",
    "        if simulate_game():\n",
    "            y_wins += 1\n",
    "            print(f\"Game {games_played + 1}: Dodgers win!\")\n",
    "        else:\n",
    "            d_wins += 1\n",
    "            print(f\"Game {games_played + 1}: Yankees win!\")\n",
    "        games_played += 1\n",
    "\n",
    "    # Determine the series winner\n",
    "    if y_wins == 4:\n",
    "        print(\"Yankees win the World Series!\")\n",
    "    else:\n",
    "        print(\"Dodgers win the World Series!\")\n",
    "\n",
    "# Run the prediction\n",
    "predict_world_series()\n"
   ]
  },
  {
   "cell_type": "code",
   "execution_count": null,
   "id": "799072b1-ad67-47d5-acd6-5725f9870221",
   "metadata": {},
   "outputs": [],
   "source": []
  },
  {
   "cell_type": "code",
   "execution_count": null,
   "id": "c226b647-3d1c-41d3-a663-85c94d2391d8",
   "metadata": {},
   "outputs": [],
   "source": []
  }
 ],
 "metadata": {
  "kernelspec": {
   "display_name": "Python 3 (ipykernel)",
   "language": "python",
   "name": "python3"
  },
  "language_info": {
   "codemirror_mode": {
    "name": "ipython",
    "version": 3
   },
   "file_extension": ".py",
   "mimetype": "text/x-python",
   "name": "python",
   "nbconvert_exporter": "python",
   "pygments_lexer": "ipython3",
   "version": "3.12.4"
  }
 },
 "nbformat": 4,
 "nbformat_minor": 5
}
