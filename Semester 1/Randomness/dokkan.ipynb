{
 "cells": [
  {
   "cell_type": "markdown",
   "id": "a12e5f62-1dda-4b9d-8bf5-f7827f856f90",
   "metadata": {},
   "source": [
    "她在我的茶上直到我dokkan"
   ]
  },
  {
   "cell_type": "markdown",
   "id": "65671461-7528-4a74-87e3-abc162972dbc",
   "metadata": {},
   "source": [
    "AA AG GG\n",
    "CC CT TT\n",
    "If her mom likes cilantro, she probably doesn't "
   ]
  },
  {
   "cell_type": "markdown",
   "id": "ddc4f386-84d5-4989-98e8-215f7980647f",
   "metadata": {},
   "source": [
    "P(A U B) = P(A) + P(B) - P(A O B)"
   ]
  },
  {
   "cell_type": "code",
   "execution_count": 3,
   "id": "8b5a6a54-03cb-4e4e-b567-e240fd434acb",
   "metadata": {},
   "outputs": [],
   "source": [
    "import random"
   ]
  },
  {
   "cell_type": "code",
   "execution_count": 7,
   "id": "6723e9b6-b1b9-494d-927f-3fe75879d0c4",
   "metadata": {},
   "outputs": [
    {
     "name": "stdout",
     "output_type": "stream",
     "text": [
      "0.0\n"
     ]
    }
   ],
   "source": [
    "genes = ['AA','AC','AG','CT','CC','TT']\n",
    "rounds = 0\n",
    "Likes = 0\n",
    "NotLikes = 0\n",
    "trials = 1000\n",
    "while rounds < trials:\n",
    "    num = random.choice(genes)\n",
    "    if num  == 'AA' and num == 'GG':\n",
    "        Likes += 1\n",
    "    rounds += 1\n",
    "\n",
    "print(str((Likes/trials) * 1000))"
   ]
  },
  {
   "cell_type": "markdown",
   "id": "c73ba428-82c8-44f8-8c5e-0213ce2e67ab",
   "metadata": {},
   "source": [
    "Conditional\n",
    "P(B|A) = P(A O B) / P(A)\n",
    "General Multiplication\n",
    "P(A O B) = P(A) x P(B|A)"
   ]
  },
  {
   "cell_type": "markdown",
   "id": "f7a11834-dca3-49be-9db6-6962571f1fa3",
   "metadata": {},
   "source": [
    "He has AG - Brown\n",
    "She has GG - Blue\n",
    "A - Brown Dominant\n",
    "G - Blue\n"
   ]
  },
  {
   "cell_type": "code",
   "execution_count": null,
   "id": "ac961602-f292-4e69-bd60-9140edf10659",
   "metadata": {},
   "outputs": [],
   "source": [
    "genes = ['AA','AG','GG','GA']\n",
    "sex = ['M', 'F']\n",
    "rounds = 0\n",
    "Brown = 0\n",
    "Blue = 0\n",
    "trials = 1000\n",
    "while rounds < trials:\n",
    "    num = random.choice(genes)\n",
    "    gender = random.choice(sex)\n",
    "    if (num  == 'AA' or num == 'AG' or num == 'GA') and gender == 'M' :\n",
    "        Brown += 1\n",
    "        Male += 1\n",
    "    if (num  == 'GG') and gender == 'M' :\n",
    "        Blue += 1\n",
    "        Male += 1\n",
    "    if (num  == 'AA' or num == 'AG' or num == 'GA') and gender == 'F' :\n",
    "        Brown += 1\n",
    "        Female += 1\n",
    "    if (num  == 'GG') and gender == 'F' :\n",
    "        Blue += 1\n",
    "        Female += 1\n",
    "    rounds += 1\n",
    "\n",
    "print(str((Likes/trials) * 1000) and (str()))"
   ]
  },
  {
   "cell_type": "code",
   "execution_count": 17,
   "id": "9699e1b2-6867-4852-8a83-f5d339657ce6",
   "metadata": {},
   "outputs": [
    {
     "name": "stdout",
     "output_type": "stream",
     "text": [
      "24.4\n"
     ]
    }
   ],
   "source": [
    "rounds = 0\n",
    "trials = 1000\n",
    "event = 0\n",
    "while rounds < trials:\n",
    "    sex = random.randint(0,1)\n",
    "    color = random.randint(0,1)\n",
    "    if sex == 0 and color == 0:\n",
    "        event += 1\n",
    "    rounds += 1\n",
    "\n",
    "print(str((event/trials) * 100))"
   ]
  },
  {
   "cell_type": "code",
   "execution_count": null,
   "id": "f057723d-de19-4ee7-86ee-9af263c36538",
   "metadata": {},
   "outputs": [],
   "source": []
  }
 ],
 "metadata": {
  "kernelspec": {
   "display_name": "Python 3 (ipykernel)",
   "language": "python",
   "name": "python3"
  },
  "language_info": {
   "codemirror_mode": {
    "name": "ipython",
    "version": 3
   },
   "file_extension": ".py",
   "mimetype": "text/x-python",
   "name": "python",
   "nbconvert_exporter": "python",
   "pygments_lexer": "ipython3",
   "version": "3.12.4"
  }
 },
 "nbformat": 4,
 "nbformat_minor": 5
}
