{
 "cells": [
  {
   "cell_type": "code",
   "execution_count": 1,
   "id": "9a98482f-3ad9-4c36-aa22-23b8e70cb2be",
   "metadata": {},
   "outputs": [],
   "source": [
    "import pandas as pd\n",
    "import seaborn as sns"
   ]
  },
  {
   "cell_type": "code",
   "execution_count": 3,
   "id": "cd900db0-b817-4b5f-a972-ebba5025fbd6",
   "metadata": {},
   "outputs": [],
   "source": [
    "df = pd.read_json('gme.json')"
   ]
  },
  {
   "cell_type": "code",
   "execution_count": 5,
   "id": "1109595d-b070-484b-b36c-ad2c1afbd9ae",
   "metadata": {},
   "outputs": [
    {
     "name": "stdout",
     "output_type": "stream",
     "text": [
      "<class 'pandas.core.frame.DataFrame'>\n",
      "RangeIndex: 5600 entries, 0 to 5599\n",
      "Data columns (total 7 columns):\n",
      " #   Column     Non-Null Count  Dtype         \n",
      "---  ------     --------------  -----         \n",
      " 0   Date       5600 non-null   datetime64[ns]\n",
      " 1   Open       5600 non-null   float64       \n",
      " 2   High       5600 non-null   float64       \n",
      " 3   Low        5600 non-null   float64       \n",
      " 4   Close      5600 non-null   float64       \n",
      " 5   Adj Close  5600 non-null   float64       \n",
      " 6   Volume     5600 non-null   int64         \n",
      "dtypes: datetime64[ns](1), float64(5), int64(1)\n",
      "memory usage: 306.4 KB\n"
     ]
    }
   ],
   "source": [
    "df.info()"
   ]
  },
  {
   "cell_type": "code",
   "execution_count": 7,
   "id": "e7bc3f97-be33-4eee-a0b2-c82a9646d6f4",
   "metadata": {},
   "outputs": [
    {
     "data": {
      "text/plain": [
       "120.75"
      ]
     },
     "execution_count": 7,
     "metadata": {},
     "output_type": "execute_result"
    }
   ],
   "source": [
    "df['High'].max()"
   ]
  },
  {
   "cell_type": "code",
   "execution_count": 9,
   "id": "59bab9d7-a8a6-4079-aa4e-67dbce8dbbdc",
   "metadata": {},
   "outputs": [
    {
     "data": {
      "text/html": [
       "<div>\n",
       "<style scoped>\n",
       "    .dataframe tbody tr th:only-of-type {\n",
       "        vertical-align: middle;\n",
       "    }\n",
       "\n",
       "    .dataframe tbody tr th {\n",
       "        vertical-align: top;\n",
       "    }\n",
       "\n",
       "    .dataframe thead th {\n",
       "        text-align: right;\n",
       "    }\n",
       "</style>\n",
       "<table border=\"1\" class=\"dataframe\">\n",
       "  <thead>\n",
       "    <tr style=\"text-align: right;\">\n",
       "      <th></th>\n",
       "      <th>Date</th>\n",
       "      <th>Open</th>\n",
       "      <th>High</th>\n",
       "      <th>Low</th>\n",
       "      <th>Close</th>\n",
       "      <th>Adj Close</th>\n",
       "      <th>Volume</th>\n",
       "    </tr>\n",
       "  </thead>\n",
       "  <tbody>\n",
       "    <tr>\n",
       "      <th>4772</th>\n",
       "      <td>2021-01-28</td>\n",
       "      <td>66.25</td>\n",
       "      <td>120.75</td>\n",
       "      <td>28.0625</td>\n",
       "      <td>48.400002</td>\n",
       "      <td>48.400002</td>\n",
       "      <td>235263200</td>\n",
       "    </tr>\n",
       "  </tbody>\n",
       "</table>\n",
       "</div>"
      ],
      "text/plain": [
       "           Date   Open    High      Low      Close  Adj Close     Volume\n",
       "4772 2021-01-28  66.25  120.75  28.0625  48.400002  48.400002  235263200"
      ]
     },
     "execution_count": 9,
     "metadata": {},
     "output_type": "execute_result"
    }
   ],
   "source": [
    "df[df['High'] == 120.75]"
   ]
  },
  {
   "cell_type": "code",
   "execution_count": 11,
   "id": "3d634498-8a01-4ca0-a9f0-dfc9d270ac1c",
   "metadata": {},
   "outputs": [
    {
     "data": {
      "text/plain": [
       "9.531773437499998"
      ]
     },
     "execution_count": 11,
     "metadata": {},
     "output_type": "execute_result"
    }
   ],
   "source": [
    "df['High'].mean()"
   ]
  },
  {
   "cell_type": "code",
   "execution_count": 39,
   "id": "fe3b24f7-101c-40c2-bb7a-27fb193bfa9d",
   "metadata": {},
   "outputs": [
    {
     "data": {
      "text/html": [
       "<div>\n",
       "<style scoped>\n",
       "    .dataframe tbody tr th:only-of-type {\n",
       "        vertical-align: middle;\n",
       "    }\n",
       "\n",
       "    .dataframe tbody tr th {\n",
       "        vertical-align: top;\n",
       "    }\n",
       "\n",
       "    .dataframe thead th {\n",
       "        text-align: right;\n",
       "    }\n",
       "</style>\n",
       "<table border=\"1\" class=\"dataframe\">\n",
       "  <thead>\n",
       "    <tr style=\"text-align: right;\">\n",
       "      <th></th>\n",
       "      <th>Date</th>\n",
       "      <th>Open</th>\n",
       "      <th>High</th>\n",
       "      <th>Low</th>\n",
       "      <th>Close</th>\n",
       "      <th>Adj Close</th>\n",
       "      <th>Volume</th>\n",
       "    </tr>\n",
       "  </thead>\n",
       "  <tbody>\n",
       "    <tr>\n",
       "      <th>1334</th>\n",
       "      <td>2007-06-04</td>\n",
       "      <td>9.515000</td>\n",
       "      <td>9.597500</td>\n",
       "      <td>9.375000</td>\n",
       "      <td>9.565000</td>\n",
       "      <td>6.440117</td>\n",
       "      <td>8198800</td>\n",
       "    </tr>\n",
       "    <tr>\n",
       "      <th>1335</th>\n",
       "      <td>2007-06-05</td>\n",
       "      <td>9.565000</td>\n",
       "      <td>9.585000</td>\n",
       "      <td>9.437500</td>\n",
       "      <td>9.535000</td>\n",
       "      <td>6.419917</td>\n",
       "      <td>7040800</td>\n",
       "    </tr>\n",
       "    <tr>\n",
       "      <th>1343</th>\n",
       "      <td>2007-06-15</td>\n",
       "      <td>9.490000</td>\n",
       "      <td>9.967500</td>\n",
       "      <td>9.465000</td>\n",
       "      <td>9.802500</td>\n",
       "      <td>6.600025</td>\n",
       "      <td>13245600</td>\n",
       "    </tr>\n",
       "    <tr>\n",
       "      <th>1344</th>\n",
       "      <td>2007-06-18</td>\n",
       "      <td>10.125000</td>\n",
       "      <td>10.292500</td>\n",
       "      <td>9.967500</td>\n",
       "      <td>10.045000</td>\n",
       "      <td>6.763301</td>\n",
       "      <td>14488000</td>\n",
       "    </tr>\n",
       "    <tr>\n",
       "      <th>1345</th>\n",
       "      <td>2007-06-19</td>\n",
       "      <td>10.042500</td>\n",
       "      <td>10.145000</td>\n",
       "      <td>9.905000</td>\n",
       "      <td>10.012500</td>\n",
       "      <td>6.741418</td>\n",
       "      <td>9126400</td>\n",
       "    </tr>\n",
       "    <tr>\n",
       "      <th>...</th>\n",
       "      <td>...</td>\n",
       "      <td>...</td>\n",
       "      <td>...</td>\n",
       "      <td>...</td>\n",
       "      <td>...</td>\n",
       "      <td>...</td>\n",
       "      <td>...</td>\n",
       "    </tr>\n",
       "    <tr>\n",
       "      <th>5595</th>\n",
       "      <td>2024-05-07</td>\n",
       "      <td>15.850000</td>\n",
       "      <td>17.290001</td>\n",
       "      <td>14.930000</td>\n",
       "      <td>16.309999</td>\n",
       "      <td>16.309999</td>\n",
       "      <td>24308600</td>\n",
       "    </tr>\n",
       "    <tr>\n",
       "      <th>5596</th>\n",
       "      <td>2024-05-08</td>\n",
       "      <td>16.049999</td>\n",
       "      <td>17.240000</td>\n",
       "      <td>15.330000</td>\n",
       "      <td>15.920000</td>\n",
       "      <td>15.920000</td>\n",
       "      <td>24775100</td>\n",
       "    </tr>\n",
       "    <tr>\n",
       "      <th>5597</th>\n",
       "      <td>2024-05-09</td>\n",
       "      <td>15.900000</td>\n",
       "      <td>18.510000</td>\n",
       "      <td>15.350000</td>\n",
       "      <td>18.010000</td>\n",
       "      <td>18.010000</td>\n",
       "      <td>25759300</td>\n",
       "    </tr>\n",
       "    <tr>\n",
       "      <th>5598</th>\n",
       "      <td>2024-05-10</td>\n",
       "      <td>17.930000</td>\n",
       "      <td>20.200001</td>\n",
       "      <td>16.879999</td>\n",
       "      <td>17.459999</td>\n",
       "      <td>17.459999</td>\n",
       "      <td>36831900</td>\n",
       "    </tr>\n",
       "    <tr>\n",
       "      <th>5599</th>\n",
       "      <td>2024-05-13</td>\n",
       "      <td>26.340000</td>\n",
       "      <td>38.200001</td>\n",
       "      <td>24.770000</td>\n",
       "      <td>30.450001</td>\n",
       "      <td>30.450001</td>\n",
       "      <td>182308700</td>\n",
       "    </tr>\n",
       "  </tbody>\n",
       "</table>\n",
       "<p>1682 rows × 7 columns</p>\n",
       "</div>"
      ],
      "text/plain": [
       "           Date       Open       High        Low      Close  Adj Close  \\\n",
       "1334 2007-06-04   9.515000   9.597500   9.375000   9.565000   6.440117   \n",
       "1335 2007-06-05   9.565000   9.585000   9.437500   9.535000   6.419917   \n",
       "1343 2007-06-15   9.490000   9.967500   9.465000   9.802500   6.600025   \n",
       "1344 2007-06-18  10.125000  10.292500   9.967500  10.045000   6.763301   \n",
       "1345 2007-06-19  10.042500  10.145000   9.905000  10.012500   6.741418   \n",
       "...         ...        ...        ...        ...        ...        ...   \n",
       "5595 2024-05-07  15.850000  17.290001  14.930000  16.309999  16.309999   \n",
       "5596 2024-05-08  16.049999  17.240000  15.330000  15.920000  15.920000   \n",
       "5597 2024-05-09  15.900000  18.510000  15.350000  18.010000  18.010000   \n",
       "5598 2024-05-10  17.930000  20.200001  16.879999  17.459999  17.459999   \n",
       "5599 2024-05-13  26.340000  38.200001  24.770000  30.450001  30.450001   \n",
       "\n",
       "         Volume  \n",
       "1334    8198800  \n",
       "1335    7040800  \n",
       "1343   13245600  \n",
       "1344   14488000  \n",
       "1345    9126400  \n",
       "...         ...  \n",
       "5595   24308600  \n",
       "5596   24775100  \n",
       "5597   25759300  \n",
       "5598   36831900  \n",
       "5599  182308700  \n",
       "\n",
       "[1682 rows x 7 columns]"
      ]
     },
     "execution_count": 39,
     "metadata": {},
     "output_type": "execute_result"
    }
   ],
   "source": [
    "df[df['High'] >= 9.531]"
   ]
  },
  {
   "cell_type": "code",
   "execution_count": 53,
   "id": "03a440ef-70ec-41b7-8164-326ab62a987b",
   "metadata": {},
   "outputs": [
    {
     "data": {
      "text/plain": [
       "<Axes: xlabel='Date', ylabel='High'>"
      ]
     },
     "execution_count": 53,
     "metadata": {},
     "output_type": "execute_result"
    },
    {
     "data": {
      "image/png": "[encoded data removed]",
      "text/plain": [
       "<Figure size 640x480 with 1 Axes>"
      ]
     },
     "metadata": {},
     "output_type": "display_data"
    }
   ],
   "source": [
    "sns.lineplot(data = df, y = 'High', x='Date')"
   ]
  },
  {
   "cell_type": "code",
   "execution_count": null,
   "id": "9fc7d809-1788-4469-beb0-8d87db748b95",
   "metadata": {},
   "outputs": [],
   "source": []
  }
 ],
 "metadata": {
  "kernelspec": {
   "display_name": "Python 3 (ipykernel)",
   "language": "python",
   "name": "python3"
  },
  "language_info": {
   "codemirror_mode": {
    "name": "ipython",
    "version": 3
   },
   "file_extension": ".py",
   "mimetype": "text/x-python",
   "name": "python",
   "nbconvert_exporter": "python",
   "pygments_lexer": "ipython3",
   "version": "3.12.4"
  }
 },
 "nbformat": 4,
 "nbformat_minor": 5
}
