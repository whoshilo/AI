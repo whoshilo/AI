{
 "cells": [
  {
   "cell_type": "code",
   "execution_count": 63,
   "id": "bae7d92e-9877-4535-bac1-b17c3566a336",
   "metadata": {},
   "outputs": [],
   "source": [
    "import requests\n",
    "from bs4 import BeautifulSoup\n",
    "import random"
   ]
  },
  {
   "cell_type": "code",
   "execution_count": 75,
   "id": "9d54ac7d-95ed-459d-849c-5ea583e5e79b",
   "metadata": {},
   "outputs": [
    {
     "data": {
      "text/plain": [
       "18"
      ]
     },
     "execution_count": 75,
     "metadata": {},
     "output_type": "execute_result"
    }
   ],
   "source": [
    "random.randint(1,20)"
   ]
  },
  {
   "cell_type": "code",
   "execution_count": 79,
   "id": "42b2ddfc-3025-4f81-9443-94814b066049",
   "metadata": {},
   "outputs": [],
   "source": [
    "def scrape_page(URL):\n",
    "    response = requests.get(URL)\n",
    "    soup = BeautifulSoup(response.text, 'html.parser')\n",
    "    str_soup = str(soup)\n",
    "    if \"Harvard\" or \"Yale\" or \"Princeton\" or \"Columbia\" or \"Pennsylvania\"or \"Dartmouth\" or \"Brown\"or \"Cornell\" in str_soup:\n",
    "        return True\n",
    "    return False"
   ]
  },
  {
   "cell_type": "code",
   "execution_count": 81,
   "id": "a1244854-e9ff-4db1-bc0c-3a4b44d0b281",
   "metadata": {},
   "outputs": [
    {
     "data": {
      "text/plain": [
       "True"
      ]
     },
     "execution_count": 81,
     "metadata": {},
     "output_type": "execute_result"
    }
   ],
   "source": [
    "scrape_page('https://en.wikipedia.org/wiki/Robert_Hofstadter')"
   ]
  },
  {
   "cell_type": "code",
   "execution_count": 83,
   "id": "9068a230-fab3-4333-ae14-34682f686461",
   "metadata": {},
   "outputs": [
    {
     "data": {
      "text/plain": [
       "True"
      ]
     },
     "execution_count": 83,
     "metadata": {},
     "output_type": "execute_result"
    }
   ],
   "source": [
    "scrape_page('https://en.wikipedia.org/wiki/Daron_Acemoglu')"
   ]
  },
  {
   "cell_type": "code",
   "execution_count": 85,
   "id": "7508e3fe-0170-4063-b5e3-9a2f39b9c7e1",
   "metadata": {},
   "outputs": [
    {
     "data": {
      "text/plain": [
       "True"
      ]
     },
     "execution_count": 85,
     "metadata": {},
     "output_type": "execute_result"
    }
   ],
   "source": [
    "scrape_page('https://en.wikipedia.org/wiki/Alexey_Ekimov')"
   ]
  },
  {
   "cell_type": "code",
   "execution_count": null,
   "id": "7b43da16-7bcb-45ef-9fff-784b0ecc2e6d",
   "metadata": {},
   "outputs": [],
   "source": []
  }
 ],
 "metadata": {
  "kernelspec": {
   "display_name": "Python 3 (ipykernel)",
   "language": "python",
   "name": "python3"
  },
  "language_info": {
   "codemirror_mode": {
    "name": "ipython",
    "version": 3
   },
   "file_extension": ".py",
   "mimetype": "text/x-python",
   "name": "python",
   "nbconvert_exporter": "python",
   "pygments_lexer": "ipython3",
   "version": "3.12.4"
  }
 },
 "nbformat": 4,
 "nbformat_minor": 5
}
