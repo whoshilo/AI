{
 "cells": [
  {
   "cell_type": "code",
   "execution_count": 1,
   "id": "966bbc41-883e-459b-9149-8ce9ee09d117",
   "metadata": {},
   "outputs": [],
   "source": [
    "import pandas as pd\n",
    "import seaborn as sns\n",
    "import numpy as np"
   ]
  },
  {
   "cell_type": "code",
   "execution_count": 3,
   "id": "e1941b7a-5bbc-4fe8-a3b6-3a9938dc08d5",
   "metadata": {},
   "outputs": [],
   "source": [
    "df = pd.read_json('tsla.json')"
   ]
  },
  {
   "cell_type": "code",
   "execution_count": 5,
   "id": "c55edd9a-4309-4e22-8978-4a04fcd8effa",
   "metadata": {},
   "outputs": [
    {
     "name": "stdout",
     "output_type": "stream",
     "text": [
      "<class 'pandas.core.frame.DataFrame'>\n",
      "RangeIndex: 2516 entries, 0 to 2515\n",
      "Data columns (total 20 columns):\n",
      " #   Column          Non-Null Count  Dtype         \n",
      "---  ------          --------------  -----         \n",
      " 0   date            2516 non-null   datetime64[ns]\n",
      " 1   open            2516 non-null   float64       \n",
      " 2   high            2516 non-null   float64       \n",
      " 3   low             2516 non-null   float64       \n",
      " 4   close           2516 non-null   float64       \n",
      " 5   volume          2516 non-null   int64         \n",
      " 6   rsi_7           2516 non-null   float64       \n",
      " 7   rsi_14          2516 non-null   float64       \n",
      " 8   cci_7           2516 non-null   float64       \n",
      " 9   cci_14          2516 non-null   float64       \n",
      " 10  sma_50          2516 non-null   float64       \n",
      " 11  ema_50          2516 non-null   float64       \n",
      " 12  sma_100         2516 non-null   float64       \n",
      " 13  ema_100         2516 non-null   float64       \n",
      " 14  macd            2516 non-null   float64       \n",
      " 15  bollinger       2516 non-null   float64       \n",
      " 16  TrueRange       2516 non-null   float64       \n",
      " 17  atr_7           2516 non-null   float64       \n",
      " 18  atr_14          2516 non-null   float64       \n",
      " 19  next_day_close  2516 non-null   float64       \n",
      "dtypes: datetime64[ns](1), float64(18), int64(1)\n",
      "memory usage: 393.3 KB\n"
     ]
    }
   ],
   "source": [
    "df.info()"
   ]
  },
  {
   "cell_type": "code",
   "execution_count": null,
   "id": "1f3a9083-d7bf-431c-a90a-27fad1317902",
   "metadata": {},
   "outputs": [],
   "source": []
  }
 ],
 "metadata": {
  "kernelspec": {
   "display_name": "Python 3 (ipykernel)",
   "language": "python",
   "name": "python3"
  },
  "language_info": {
   "codemirror_mode": {
    "name": "ipython",
    "version": 3
   },
   "file_extension": ".py",
   "mimetype": "text/x-python",
   "name": "python",
   "nbconvert_exporter": "python",
   "pygments_lexer": "ipython3",
   "version": "3.12.4"
  }
 },
 "nbformat": 4,
 "nbformat_minor": 5
}
