{
 "cells": [
  {
   "cell_type": "markdown",
   "id": "9919c268",
   "metadata": {},
   "source": [
    "# Choose a Data Set\n",
    "\n",
    "Create your own dataset by scraping one of the following websites *(level 5)*:\n",
    "- [Wikipedia](https://www.wikipedia.org/)\n",
    "- [OpenLibrary](https://openlibrary.org/)\n",
    "\n",
    "**OR** \n",
    "\n",
    "Use data gathered from one of the following APIs *(level 4)*: \n",
    "- [TMDB](https://developer.themoviedb.org/reference/intro/getting-started)\n",
    "- [College Scorecard](https://collegescorecard.ed.gov/data/api-documentation/)\n",
    "\n",
    "**OR** \n",
    "\n",
    "Pick a JSON dataset *(level 3)*:\n",
    "- [Food/Restaurant Data](https://drive.google.com/drive/folders/1V94S6WpclvQmbnW88KVMD4EruryA1oma?usp=drive_link)\n",
    "- [Fashion Data](https://drive.google.com/drive/folders/1V8SbFjtRRW8WVf3xBzg0gzLjOtMhHea_?usp=drive_link)\n",
    "\n",
    "**OR** \n",
    "\n",
    "Pick a CSV dataset *(level 2)*:\n",
    "- [LA Parking Tickets](https://drive.google.com/drive/folders/1vaOfwMi6QmZEGsXr8VM0ulPGzvTTBCgm?usp=drive_link)\n",
    "- [Hotels](https://drive.google.com/drive/folders/1IpVFxgwBJvJHKoOuBsk6WK2qYqFYP4hi?usp=drive_link)"
   ]
  },
  {
   "cell_type": "markdown",
   "id": "ae147ea6",
   "metadata": {},
   "source": [
    "# My Question\n",
    "### With this list of Generation 1 Pokemon, what is the probability of choosing a pokemon that is a fire type? What about Grass and Poison? Finally what's the probability of you choosing an electric OR water type?"
   ]
  },
  {
   "cell_type": "code",
   "execution_count": 413,
   "id": "b228559e",
   "metadata": {},
   "outputs": [],
   "source": [
    "from bs4 import BeautifulSoup as BS  \n",
    "import requests  \n",
    "import pandas as pd\n",
    "import random"
   ]
  },
  {
   "cell_type": "code",
   "execution_count": 319,
   "id": "7bbc39bf-9adc-4768-af6a-c211616ed888",
   "metadata": {},
   "outputs": [],
   "source": [
    "url = 'https://en.wikipedia.org/wiki/List_of_generation_I_Pok%C3%A9mon'  \n",
    "response = requests.get(url)  \n",
    "html_stuff = response.text  \n",
    "soup = BS(response.content, \"html.parser\")  "
   ]
  },
  {
   "cell_type": "code",
   "execution_count": 320,
   "id": "e26ac813-7335-488f-81cc-65c7c3ca521b",
   "metadata": {},
   "outputs": [],
   "source": [
    "table = soup.find('table', {'class': 'wikitable'})   \n",
    "rows = table.find_all('tr')  "
   ]
  },
  {
   "cell_type": "code",
   "execution_count": 323,
   "id": "d38eb394-1cbd-48e6-82cd-f79814be694e",
   "metadata": {},
   "outputs": [],
   "source": [
    "headers = [th.text.strip() for th in rows[0].find_all('th')]  "
   ]
  },
  {
   "cell_type": "code",
   "execution_count": 325,
   "id": "3057ee05-97fa-4320-bdd6-db1d71aa3687",
   "metadata": {},
   "outputs": [],
   "source": [
    "data = []   \n",
    "for row in rows[1:]:    \n",
    "  cols = row.find_all(['th', 'td'])  # Find both th and td tags   \n",
    "  row_data = []  \n",
    "  for col in cols:  \n",
    "     if col.text.strip() == '':  \n",
    "        row_data.append('N/A')  # Handle empty entries  \n",
    "     else:  \n",
    "        row_data.append(col.text.strip())  \n",
    "  data.append(row_data) "
   ]
  },
  {
   "cell_type": "code",
   "execution_count": 327,
   "id": "a675e1a3-a197-489f-89f7-20952a63456b",
   "metadata": {},
   "outputs": [],
   "source": [
    "max_cols = max(len(row) for row in data)  "
   ]
  },
  {
   "cell_type": "code",
   "execution_count": 329,
   "id": "7281dcdf-08e5-4718-b20a-80423ade1020",
   "metadata": {},
   "outputs": [],
   "source": [
    "while len(headers) < max_cols:  \n",
    "   headers.append('Extra Column') "
   ]
  },
  {
   "cell_type": "code",
   "execution_count": 331,
   "id": "2fbe761b-521c-41f7-ae3a-513cde7a86cf",
   "metadata": {},
   "outputs": [],
   "source": [
    "for row in data:  \n",
    "   while len(row) < max_cols:  \n",
    "      row.append('N/A')  "
   ]
  },
  {
   "cell_type": "code",
   "execution_count": 333,
   "id": "079c69dd-9af7-4fd6-9a35-92cd117a57c6",
   "metadata": {},
   "outputs": [],
   "source": [
    "df = pd.DataFrame(data, columns=headers)  "
   ]
  },
  {
   "cell_type": "code",
   "execution_count": 407,
   "id": "651b5e2e-8d7f-4766-b393-e702b8a7e8f9",
   "metadata": {},
   "outputs": [],
   "source": [
    "df = df.iloc[:, [4, 2, 3, 0, 1, 5]]  #WHY in God's time alive is this line of code messing EVERYTHING up from time to time?"
   ]
  },
  {
   "cell_type": "code",
   "execution_count": 409,
   "id": "a0ecd210-272f-46b3-841e-e50e9e330511",
   "metadata": {},
   "outputs": [
    {
     "data": {
      "text/html": [
       "<div>\n",
       "<style scoped>\n",
       "    .dataframe tbody tr th:only-of-type {\n",
       "        vertical-align: middle;\n",
       "    }\n",
       "\n",
       "    .dataframe tbody tr th {\n",
       "        vertical-align: top;\n",
       "    }\n",
       "\n",
       "    .dataframe thead th {\n",
       "        text-align: right;\n",
       "    }\n",
       "</style>\n",
       "<table border=\"1\" class=\"dataframe\">\n",
       "  <thead>\n",
       "    <tr style=\"text-align: right;\">\n",
       "      <th></th>\n",
       "      <th>Name[nb 2]</th>\n",
       "      <th>Type(s)</th>\n",
       "      <th>Evolves from</th>\n",
       "      <th>Evolves into</th>\n",
       "      <th>Notes</th>\n",
       "      <th>Extra Column</th>\n",
       "    </tr>\n",
       "  </thead>\n",
       "  <tbody>\n",
       "    <tr>\n",
       "      <th>0</th>\n",
       "      <td>BulbasaurFushigidane (フシギダネ)(0001)</td>\n",
       "      <td>Grass / Poison</td>\n",
       "      <td>—</td>\n",
       "      <td>Ivysaur (#0002)</td>\n",
       "      <td>It is one of Kanto's starter Pokémon. It has a...</td>\n",
       "      <td>N/A</td>\n",
       "    </tr>\n",
       "    <tr>\n",
       "      <th>1</th>\n",
       "      <td>IvysaurFushigisō (フシギソウ)(0002)</td>\n",
       "      <td>Grass / Poison</td>\n",
       "      <td>Bulbasaur (#0001)</td>\n",
       "      <td>Venusaur (#0003)</td>\n",
       "      <td>It is a playable character in Super Smash Bros...</td>\n",
       "      <td>N/A</td>\n",
       "    </tr>\n",
       "    <tr>\n",
       "      <th>2</th>\n",
       "      <td>VenusaurFushigibana (フシギバナ)(0003)</td>\n",
       "      <td>Grass / Poison</td>\n",
       "      <td>Ivysaur (#0002)</td>\n",
       "      <td>Mega EvolutionGigantamax</td>\n",
       "      <td>It is the mascot of Pokémon Green and LeafGree...</td>\n",
       "      <td>N/A</td>\n",
       "    </tr>\n",
       "    <tr>\n",
       "      <th>3</th>\n",
       "      <td>CharmanderHitokage (ヒトカゲ)(0004)</td>\n",
       "      <td>Fire</td>\n",
       "      <td>—</td>\n",
       "      <td>Charmeleon (#0005)</td>\n",
       "      <td>It is one of Kanto's starter Pokémon. From the...</td>\n",
       "      <td>N/A</td>\n",
       "    </tr>\n",
       "    <tr>\n",
       "      <th>4</th>\n",
       "      <td>CharmeleonRizādo (リザード)(0005)</td>\n",
       "      <td>Fire</td>\n",
       "      <td>Charmander (#0004)</td>\n",
       "      <td>Charizard (#0006)</td>\n",
       "      <td>A feisty Pokémon, it seeks out potential oppon...</td>\n",
       "      <td>N/A</td>\n",
       "    </tr>\n",
       "    <tr>\n",
       "      <th>...</th>\n",
       "      <td>...</td>\n",
       "      <td>...</td>\n",
       "      <td>...</td>\n",
       "      <td>...</td>\n",
       "      <td>...</td>\n",
       "      <td>...</td>\n",
       "    </tr>\n",
       "    <tr>\n",
       "      <th>147</th>\n",
       "      <td>DragonairHakuryū (ハクリュー)(0148)</td>\n",
       "      <td>Dragon</td>\n",
       "      <td>Dratini (#0147)</td>\n",
       "      <td>Dragonite (#0149)</td>\n",
       "      <td>Dragonair can grow the wings on its head to fl...</td>\n",
       "      <td>N/A</td>\n",
       "    </tr>\n",
       "    <tr>\n",
       "      <th>148</th>\n",
       "      <td>DragoniteKairyū (カイリュー)(0149)</td>\n",
       "      <td>Dragon / Flying</td>\n",
       "      <td>Dragonair (#0148)</td>\n",
       "      <td>—</td>\n",
       "      <td>Capable of circling the globe in just sixteen ...</td>\n",
       "      <td>N/A</td>\n",
       "    </tr>\n",
       "    <tr>\n",
       "      <th>149</th>\n",
       "      <td>MewtwoMyūtsū (ミュウツー)(0150)</td>\n",
       "      <td>Psychic</td>\n",
       "      <td>—</td>\n",
       "      <td>Two Mega Evolutions</td>\n",
       "      <td>It is a playable character in Super Smash Bros...</td>\n",
       "      <td>N/A</td>\n",
       "    </tr>\n",
       "    <tr>\n",
       "      <th>150</th>\n",
       "      <td>MewMyū (ミュウ)(0151)</td>\n",
       "      <td>Psychic</td>\n",
       "      <td>No evolution</td>\n",
       "      <td>This mythical Pokémon is so rare, only a few e...</td>\n",
       "      <td>N/A</td>\n",
       "      <td>N/A</td>\n",
       "    </tr>\n",
       "    <tr>\n",
       "      <th>151</th>\n",
       "      <td>MissingNo.Ketsuban (けつばん)(000[nb 9])</td>\n",
       "      <td>Normal / Bird[nb 10]</td>\n",
       "      <td>No evolution</td>\n",
       "      <td>An error handler whose name stands for \"Missin...</td>\n",
       "      <td>N/A</td>\n",
       "      <td>N/A</td>\n",
       "    </tr>\n",
       "  </tbody>\n",
       "</table>\n",
       "<p>152 rows × 6 columns</p>\n",
       "</div>"
      ],
      "text/plain": [
       "                               Name[nb 2]               Type(s)  \\\n",
       "0      BulbasaurFushigidane (フシギダネ)(0001)        Grass / Poison   \n",
       "1          IvysaurFushigisō (フシギソウ)(0002)        Grass / Poison   \n",
       "2       VenusaurFushigibana (フシギバナ)(0003)        Grass / Poison   \n",
       "3         CharmanderHitokage (ヒトカゲ)(0004)                  Fire   \n",
       "4           CharmeleonRizādo (リザード)(0005)                  Fire   \n",
       "..                                    ...                   ...   \n",
       "147        DragonairHakuryū (ハクリュー)(0148)                Dragon   \n",
       "148         DragoniteKairyū (カイリュー)(0149)       Dragon / Flying   \n",
       "149            MewtwoMyūtsū (ミュウツー)(0150)               Psychic   \n",
       "150                    MewMyū (ミュウ)(0151)               Psychic   \n",
       "151  MissingNo.Ketsuban (けつばん)(000[nb 9])  Normal / Bird[nb 10]   \n",
       "\n",
       "           Evolves from                                       Evolves into  \\\n",
       "0                     —                                    Ivysaur (#0002)   \n",
       "1     Bulbasaur (#0001)                                   Venusaur (#0003)   \n",
       "2       Ivysaur (#0002)                           Mega EvolutionGigantamax   \n",
       "3                     —                                 Charmeleon (#0005)   \n",
       "4    Charmander (#0004)                                  Charizard (#0006)   \n",
       "..                  ...                                                ...   \n",
       "147     Dratini (#0147)                                  Dragonite (#0149)   \n",
       "148   Dragonair (#0148)                                                  —   \n",
       "149                   —                                Two Mega Evolutions   \n",
       "150        No evolution  This mythical Pokémon is so rare, only a few e...   \n",
       "151        No evolution  An error handler whose name stands for \"Missin...   \n",
       "\n",
       "                                                 Notes Extra Column  \n",
       "0    It is one of Kanto's starter Pokémon. It has a...          N/A  \n",
       "1    It is a playable character in Super Smash Bros...          N/A  \n",
       "2    It is the mascot of Pokémon Green and LeafGree...          N/A  \n",
       "3    It is one of Kanto's starter Pokémon. From the...          N/A  \n",
       "4    A feisty Pokémon, it seeks out potential oppon...          N/A  \n",
       "..                                                 ...          ...  \n",
       "147  Dragonair can grow the wings on its head to fl...          N/A  \n",
       "148  Capable of circling the globe in just sixteen ...          N/A  \n",
       "149  It is a playable character in Super Smash Bros...          N/A  \n",
       "150                                                N/A          N/A  \n",
       "151                                                N/A          N/A  \n",
       "\n",
       "[152 rows x 6 columns]"
      ]
     },
     "execution_count": 409,
     "metadata": {},
     "output_type": "execute_result"
    }
   ],
   "source": [
    "df.columns = ['Name[nb 2]', 'Type(s)', 'Evolves from', 'Evolves into', 'Notes', 'Extra Column']  \n",
    "df "
   ]
  },
  {
   "cell_type": "markdown",
   "id": "63d3e8ff-7600-4aab-b913-b9ad86db18e7",
   "metadata": {},
   "source": [
    "# Fire Type Empirical Probability"
   ]
  },
  {
   "cell_type": "code",
   "execution_count": 453,
   "id": "fd25ff1a-ab0e-4efa-9130-dbec0678d8e8",
   "metadata": {},
   "outputs": [
    {
     "name": "stdout",
     "output_type": "stream",
     "text": [
      "7.670000000000001\n"
     ]
    }
   ],
   "source": [
    "rounds = 0\n",
    "FType = 0\n",
    "trials = 10000\n",
    "while rounds < 10000:\n",
    "    num = random.randint(1,152)\n",
    "    if num <= 12:\n",
    "        FType += 1 \n",
    "    rounds += 1\n",
    "\n",
    "print(str((FType/trials) * 100))"
   ]
  },
  {
   "cell_type": "markdown",
   "id": "2f332268-c3cf-4bad-aa4e-214eaa014168",
   "metadata": {},
   "source": [
    "My Empirical Probability for the picking of a fire type gave me 7.67% chance to get a fire type."
   ]
  },
  {
   "cell_type": "markdown",
   "id": "936ce562-7843-4b80-9d71-d9efadcf4fd3",
   "metadata": {},
   "source": [
    "# Grass AND Poison Type Theoretical  Probability\n",
    "## There are 9 pokemon which have both the types of grass and poison. Making the equation 9/152 = 0.059 or 5.9% chance to get a pokemon that is a grass and a poison type."
   ]
  },
  {
   "cell_type": "markdown",
   "id": "bce42e35-2db9-45c6-981f-b3b18bfaaef3",
   "metadata": {},
   "source": [
    "# Water OR Electric Type Empirical Probability"
   ]
  },
  {
   "cell_type": "code",
   "execution_count": 462,
   "id": "d56ba2d2-e0c1-4858-970a-11082aeab2d7",
   "metadata": {},
   "outputs": [
    {
     "name": "stdout",
     "output_type": "stream",
     "text": [
      "26.97\n"
     ]
    }
   ],
   "source": [
    "rounds = 0\n",
    "EType = 0\n",
    "WType = 0\n",
    "trials = 10000\n",
    "while rounds < 10000:\n",
    "    num = random.randint(1,152)\n",
    "    if num <= 32:\n",
    "        WType += 1\n",
    "    if num > 32 and num <=41:\n",
    "        EType += 1\n",
    "    rounds += 1\n",
    "\n",
    "print(str(((EType+WType)/trials) * 100))"
   ]
  },
  {
   "cell_type": "markdown",
   "id": "f6eab9b4-9c1a-48cb-a800-bf5b351d6dd9",
   "metadata": {},
   "source": [
    "My Empirical Probability says there is a 26.97% chance to get a water OR electric type."
   ]
  },
  {
   "cell_type": "markdown",
   "id": "4d93cfe1",
   "metadata": {},
   "source": [
    "# My Answer\n",
    "## My Empirical Probability for getting a fire type is a 7.67% chance.\n",
    "## My Theoretical Probability for getting a grass or poison type is a 5.9% chance.\n",
    "## My Empirical Probability for getting a water or electric type is a 26.97% chance."
   ]
  },
  {
   "cell_type": "code",
   "execution_count": null,
   "id": "1ad15203-814c-4822-9d20-0a4e62e85f4b",
   "metadata": {},
   "outputs": [],
   "source": []
  }
 ],
 "metadata": {
  "kernelspec": {
   "display_name": "Python 3 (ipykernel)",
   "language": "python",
   "name": "python3"
  },
  "language_info": {
   "codemirror_mode": {
    "name": "ipython",
    "version": 3
   },
   "file_extension": ".py",
   "mimetype": "text/x-python",
   "name": "python",
   "nbconvert_exporter": "python",
   "pygments_lexer": "ipython3",
   "version": "3.12.4"
  }
 },
 "nbformat": 4,
 "nbformat_minor": 5
}
