{
 "cells": [
  {
   "cell_type": "code",
   "execution_count": 48,
   "id": "0a5ce032-fdc2-45cc-9301-97952b22fe24",
   "metadata": {},
   "outputs": [],
   "source": [
    "from bs4 import BeautifulSoup as BS\n",
    "import requests\n",
    "import random\n",
    "import pandas as pd"
   ]
  },
  {
   "cell_type": "code",
   "execution_count": 64,
   "id": "0d2ea988-a45f-4576-ace1-f6e39b347ee3",
   "metadata": {},
   "outputs": [
    {
     "name": "stdout",
     "output_type": "stream",
     "text": [
      "                     Team  Wins\n",
      "0           Boston Bruins    44\n",
      "1          Buffalo Sabres    31\n",
      "2          Calgary Flames    46\n",
      "3      Chicago Blackhawks    49\n",
      "4       Detroit Red Wings    34\n",
      "5         Edmonton Oilers    37\n",
      "6        Hartford Whalers    31\n",
      "7       Los Angeles Kings    46\n",
      "8   Minnesota North Stars    27\n",
      "9      Montreal Canadiens    39\n",
      "10      New Jersey Devils    32\n",
      "11     New York Islanders    25\n",
      "12       New York Rangers    36\n",
      "13    Philadelphia Flyers    33\n",
      "14    Pittsburgh Penguins    41\n",
      "15       Quebec Nordiques    16\n",
      "16        St. Louis Blues    47\n",
      "17    Toronto Maple Leafs    23\n",
      "18      Vancouver Canucks    28\n",
      "19    Washington Capitals    37\n",
      "20          Winnipeg Jets    26\n",
      "21          Boston Bruins    36\n",
      "22         Buffalo Sabres    31\n",
      "23         Calgary Flames    31\n",
      "24     Chicago Blackhawks    36\n"
     ]
    }
   ],
   "source": [
    "url = 'https://www.scrapethissite.com/pages/forms/'\n",
    "response = requests.get(url)\n",
    "html_stuff = response.text\n",
    "\n",
    "data = BS(html_content, \"html.parser\")\n",
    "table = data.find(\"table\") \n",
    "\n",
    "team_data = []\n",
    "for row in table.find_all(\"tr\")[1:]: \n",
    "    cells = row.find_all(\"td\")\n",
    "    team_name = cells[0].text.strip()\n",
    "    wins = int(cells[2].text.strip())\n",
    "    team_data.append({\"Team\": team_name, \"Wins\": wins})\n",
    "\n",
    "df = pd.DataFrame(team_data)\n",
    "print(df)\n"
   ]
  },
  {
   "cell_type": "code",
   "execution_count": 56,
   "id": "df833b6e-8a37-4d15-a1c9-11c92c924113",
   "metadata": {},
   "outputs": [
    {
     "name": "stdout",
     "output_type": "stream",
     "text": [
      "<class 'pandas.core.frame.DataFrame'>\n",
      "RangeIndex: 25 entries, 0 to 24\n",
      "Data columns (total 2 columns):\n",
      " #   Column  Non-Null Count  Dtype \n",
      "---  ------  --------------  ----- \n",
      " 0   Team    25 non-null     object\n",
      " 1   Wins    25 non-null     int64 \n",
      "dtypes: int64(1), object(1)\n",
      "memory usage: 532.0+ bytes\n"
     ]
    }
   ],
   "source": [
    "df.info()"
   ]
  },
  {
   "cell_type": "code",
   "execution_count": null,
   "id": "9b00e96a-9cc0-462a-87ae-3176db83f14e",
   "metadata": {},
   "outputs": [],
   "source": []
  },
  {
   "cell_type": "code",
   "execution_count": null,
   "id": "15e14b5c-9cb0-42a3-afde-b2ce50cc091b",
   "metadata": {},
   "outputs": [],
   "source": []
  },
  {
   "cell_type": "code",
   "execution_count": null,
   "id": "fda4946a-18d1-4dbf-8e99-921fb13d1bac",
   "metadata": {},
   "outputs": [],
   "source": []
  }
 ],
 "metadata": {
  "kernelspec": {
   "display_name": "Python 3 (ipykernel)",
   "language": "python",
   "name": "python3"
  },
  "language_info": {
   "codemirror_mode": {
    "name": "ipython",
    "version": 3
   },
   "file_extension": ".py",
   "mimetype": "text/x-python",
   "name": "python",
   "nbconvert_exporter": "python",
   "pygments_lexer": "ipython3",
   "version": "3.12.4"
  }
 },
 "nbformat": 4,
 "nbformat_minor": 5
}
