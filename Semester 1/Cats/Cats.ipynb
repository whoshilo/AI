{
 "cells": [
  {
   "cell_type": "code",
   "execution_count": 4,
   "id": "0daca745",
   "metadata": {},
   "outputs": [
    {
     "data": {
      "text/plain": [
       "'2.2.2'"
      ]
     },
     "execution_count": 4,
     "metadata": {},
     "output_type": "execute_result"
    }
   ],
   "source": [
    "import pandas as pd\n",
    "pd.__version__"
   ]
  },
  {
   "cell_type": "raw",
   "id": "b42cd791",
   "metadata": {},
   "source": [
    "df = pd.read_csv(\"cats.csv\")"
   ]
  },
  {
   "cell_type": "code",
   "execution_count": 12,
   "id": "6e1a87ca-ffea-4a37-9ccd-bff7f349b153",
   "metadata": {},
   "outputs": [
    {
     "ename": "NameError",
     "evalue": "name 'df' is not defined",
     "output_type": "error",
     "traceback": [
      "\u001b[1;31m---------------------------------------------------------------------------\u001b[0m",
      "\u001b[1;31mNameError\u001b[0m                                 Traceback (most recent call last)",
      "Cell \u001b[1;32mIn[12], line 1\u001b[0m\n\u001b[1;32m----> 1\u001b[0m df\u001b[38;5;241m.\u001b[39mcolumns\n",
      "\u001b[1;31mNameError\u001b[0m: name 'df' is not defined"
     ]
    }
   ],
   "source": [
    "df.columns"
   ]
  },
  {
   "cell_type": "code",
   "execution_count": 14,
   "id": "21c03cee-9fb7-4470-9ba4-4a1073b599f4",
   "metadata": {},
   "outputs": [
    {
     "ename": "NameError",
     "evalue": "name 'df' is not defined",
     "output_type": "error",
     "traceback": [
      "\u001b[1;31m---------------------------------------------------------------------------\u001b[0m",
      "\u001b[1;31mNameError\u001b[0m                                 Traceback (most recent call last)",
      "Cell \u001b[1;32mIn[14], line 1\u001b[0m\n\u001b[1;32m----> 1\u001b[0m df\u001b[38;5;241m.\u001b[39mdrop([\u001b[38;5;124m'\u001b[39m\u001b[38;5;124mUnnamed: 0\u001b[39m\u001b[38;5;124m'\u001b[39m], inplace\u001b[38;5;241m=\u001b[39m\u001b[38;5;28;01mTrue\u001b[39;00m, axis\u001b[38;5;241m=\u001b[39m\u001b[38;5;241m1\u001b[39m)\n",
      "\u001b[1;31mNameError\u001b[0m: name 'df' is not defined"
     ]
    }
   ],
   "source": [
    "df.drop(['Unnamed: 0'], inplace=True, axis=1)"
   ]
  },
  {
   "cell_type": "code",
   "execution_count": 16,
   "id": "e7e79b71-3f36-4903-8f24-cc3044c82ef1",
   "metadata": {},
   "outputs": [
    {
     "ename": "NameError",
     "evalue": "name 'df' is not defined",
     "output_type": "error",
     "traceback": [
      "\u001b[1;31m---------------------------------------------------------------------------\u001b[0m",
      "\u001b[1;31mNameError\u001b[0m                                 Traceback (most recent call last)",
      "Cell \u001b[1;32mIn[16], line 1\u001b[0m\n\u001b[1;32m----> 1\u001b[0m df\u001b[38;5;241m.\u001b[39mhead()\n",
      "\u001b[1;31mNameError\u001b[0m: name 'df' is not defined"
     ]
    }
   ],
   "source": [
    "df.head()"
   ]
  },
  {
   "cell_type": "code",
   "execution_count": 18,
   "id": "6030a6d7-fa83-42d8-9683-fc42556e6fa6",
   "metadata": {},
   "outputs": [
    {
     "ename": "NameError",
     "evalue": "name 'df' is not defined",
     "output_type": "error",
     "traceback": [
      "\u001b[1;31m---------------------------------------------------------------------------\u001b[0m",
      "\u001b[1;31mNameError\u001b[0m                                 Traceback (most recent call last)",
      "Cell \u001b[1;32mIn[18], line 1\u001b[0m\n\u001b[1;32m----> 1\u001b[0m sample_row \u001b[38;5;241m=\u001b[39m df\u001b[38;5;241m.\u001b[39miloc [\u001b[38;5;241m98\u001b[39m]\n\u001b[0;32m      2\u001b[0m \u001b[38;5;28mprint\u001b[39m (sample_row)\n",
      "\u001b[1;31mNameError\u001b[0m: name 'df' is not defined"
     ]
    }
   ],
   "source": [
    "sample_row = df.iloc [98]\n",
    "print (sample_row)"
   ]
  },
  {
   "cell_type": "code",
   "execution_count": 20,
   "id": "8a5a5108",
   "metadata": {},
   "outputs": [
    {
     "ename": "NameError",
     "evalue": "name 'df' is not defined",
     "output_type": "error",
     "traceback": [
      "\u001b[1;31m---------------------------------------------------------------------------\u001b[0m",
      "\u001b[1;31mNameError\u001b[0m                                 Traceback (most recent call last)",
      "Cell \u001b[1;32mIn[20], line 1\u001b[0m\n\u001b[1;32m----> 1\u001b[0m sample_row \u001b[38;5;241m=\u001b[39m df\u001b[38;5;241m.\u001b[39miloc [\u001b[38;5;241m42\u001b[39m]\n\u001b[0;32m      2\u001b[0m \u001b[38;5;28mprint\u001b[39m (sample_row)\n",
      "\u001b[1;31mNameError\u001b[0m: name 'df' is not defined"
     ]
    }
   ],
   "source": [
    "sample_row = df.iloc [42]\n",
    "print (sample_row)"
   ]
  },
  {
   "cell_type": "code",
   "execution_count": 12,
   "id": "1491b52f-b1d1-43e2-8984-f96877919ca0",
   "metadata": {
    "scrolled": true
   },
   "outputs": [],
   "source": [
    "df.loc[len(df)] = [\"Orange Tabby\", 3, 5, \"Orange\", \"Male\", len(df)]"
   ]
  },
  {
   "cell_type": "code",
   "execution_count": 13,
   "id": "a9e30610-628d-431d-8acb-c9e63c1302b0",
   "metadata": {},
   "outputs": [],
   "source": [
    "df['Weight (lbs)'] = df['Weight (kg)'] * 2.205"
   ]
  },
  {
   "cell_type": "code",
   "execution_count": 14,
   "id": "e32e5745-1aa3-4505-93e5-8a9dd34fd64c",
   "metadata": {},
   "outputs": [
    {
     "data": {
      "text/html": [
       "<div>\n",
       "<style scoped>\n",
       "    .dataframe tbody tr th:only-of-type {\n",
       "        vertical-align: middle;\n",
       "    }\n",
       "\n",
       "    .dataframe tbody tr th {\n",
       "        vertical-align: top;\n",
       "    }\n",
       "\n",
       "    .dataframe thead th {\n",
       "        text-align: right;\n",
       "    }\n",
       "</style>\n",
       "<table border=\"1\" class=\"dataframe\">\n",
       "  <thead>\n",
       "    <tr style=\"text-align: right;\">\n",
       "      <th></th>\n",
       "      <th>Breed</th>\n",
       "      <th>Age (Years)</th>\n",
       "      <th>Weight (kg)</th>\n",
       "      <th>Color</th>\n",
       "      <th>Gender</th>\n",
       "      <th>ID</th>\n",
       "      <th>Weight (lbs)</th>\n",
       "    </tr>\n",
       "  </thead>\n",
       "  <tbody>\n",
       "    <tr>\n",
       "      <th>996</th>\n",
       "      <td>Burmese</td>\n",
       "      <td>4</td>\n",
       "      <td>5</td>\n",
       "      <td>Pointed</td>\n",
       "      <td>Female</td>\n",
       "      <td>339</td>\n",
       "      <td>11.025</td>\n",
       "    </tr>\n",
       "    <tr>\n",
       "      <th>997</th>\n",
       "      <td>Persian</td>\n",
       "      <td>19</td>\n",
       "      <td>9</td>\n",
       "      <td>Cream</td>\n",
       "      <td>Male</td>\n",
       "      <td>659</td>\n",
       "      <td>19.845</td>\n",
       "    </tr>\n",
       "    <tr>\n",
       "      <th>998</th>\n",
       "      <td>Persian</td>\n",
       "      <td>17</td>\n",
       "      <td>3</td>\n",
       "      <td>Bicolor</td>\n",
       "      <td>Female</td>\n",
       "      <td>124</td>\n",
       "      <td>6.615</td>\n",
       "    </tr>\n",
       "    <tr>\n",
       "      <th>999</th>\n",
       "      <td>Manx</td>\n",
       "      <td>18</td>\n",
       "      <td>8</td>\n",
       "      <td>Black</td>\n",
       "      <td>Male</td>\n",
       "      <td>226</td>\n",
       "      <td>17.640</td>\n",
       "    </tr>\n",
       "    <tr>\n",
       "      <th>1000</th>\n",
       "      <td>Orange Tabby</td>\n",
       "      <td>3</td>\n",
       "      <td>5</td>\n",
       "      <td>Orange</td>\n",
       "      <td>Male</td>\n",
       "      <td>1000</td>\n",
       "      <td>11.025</td>\n",
       "    </tr>\n",
       "  </tbody>\n",
       "</table>\n",
       "</div>"
      ],
      "text/plain": [
       "             Breed  Age (Years)  Weight (kg)    Color  Gender    ID  \\\n",
       "996        Burmese            4            5  Pointed  Female   339   \n",
       "997        Persian           19            9    Cream    Male   659   \n",
       "998        Persian           17            3  Bicolor  Female   124   \n",
       "999           Manx           18            8    Black    Male   226   \n",
       "1000  Orange Tabby            3            5   Orange    Male  1000   \n",
       "\n",
       "      Weight (lbs)  \n",
       "996         11.025  \n",
       "997         19.845  \n",
       "998          6.615  \n",
       "999         17.640  \n",
       "1000        11.025  "
      ]
     },
     "execution_count": 14,
     "metadata": {},
     "output_type": "execute_result"
    }
   ],
   "source": [
    "df.tail()"
   ]
  },
  {
   "cell_type": "code",
   "execution_count": null,
   "id": "041e151b-945a-427b-ae7a-d04a7c05007a",
   "metadata": {},
   "outputs": [],
   "source": []
  },
  {
   "cell_type": "code",
   "execution_count": null,
   "id": "49f8d942-d533-4391-9f84-f90618349ac0",
   "metadata": {},
   "outputs": [],
   "source": []
  },
  {
   "cell_type": "code",
   "execution_count": null,
   "id": "c0fb8d3b",
   "metadata": {},
   "outputs": [],
   "source": []
  }
 ],
 "metadata": {
  "kernelspec": {
   "display_name": "Python 3 (ipykernel)",
   "language": "python",
   "name": "python3"
  },
  "language_info": {
   "codemirror_mode": {
    "name": "ipython",
    "version": 3
   },
   "file_extension": ".py",
   "mimetype": "text/x-python",
   "name": "python",
   "nbconvert_exporter": "python",
   "pygments_lexer": "ipython3",
   "version": "3.12.4"
  }
 },
 "nbformat": 4,
 "nbformat_minor": 5
}
