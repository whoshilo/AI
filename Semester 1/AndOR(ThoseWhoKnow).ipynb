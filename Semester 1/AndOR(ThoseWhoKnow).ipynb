{
 "cells": [
  {
   "cell_type": "markdown",
   "id": "35836e91-7bff-4181-b67e-0948c2dc219e",
   "metadata": {},
   "source": [
    "P(A U B) = P(A) + P(B)"
   ]
  },
  {
   "cell_type": "markdown",
   "id": "a06ebbc1-d540-4227-9d7d-064b207dda23",
   "metadata": {},
   "source": [
    "P(O-) = .066\n",
    "\n",
    "P(AB-) =.006\n",
    "\n",
    "P(O- U AB-) = 0.072 or 7.2%"
   ]
  },
  {
   "cell_type": "code",
   "execution_count": 16,
   "id": "a9295202-ded3-425c-8d51-1a27863851b8",
   "metadata": {},
   "outputs": [],
   "source": [
    "import random"
   ]
  },
  {
   "cell_type": "code",
   "execution_count": null,
   "id": "44f4a4eb-076c-421b-af2d-7f2f17a756d1",
   "metadata": {},
   "outputs": [],
   "source": []
  },
  {
   "cell_type": "code",
   "execution_count": 47,
   "id": "e47546cd-872a-4760-8cc2-9bbd801fd36c",
   "metadata": {},
   "outputs": [
    {
     "name": "stdout",
     "output_type": "stream",
     "text": [
      "0.611\n"
     ]
    }
   ],
   "source": [
    "rounds = 0\n",
    "ON = 0\n",
    "ABN = 0\n",
    "trials = 1000000\n",
    "while rounds < trials:\n",
    "    num = random.randint(1,10000)\n",
    "    if num <= 66:\n",
    "        ON += 1\n",
    "    if num > 66 and num <=72:\n",
    "        ABN += 1\n",
    "    rounds += 1\n",
    "\n",
    "print(str((ABN/trials) * 1000))"
   ]
  },
  {
   "cell_type": "code",
   "execution_count": 45,
   "id": "45d9558a-4f59-4fd7-9859-1c3889b41f7f",
   "metadata": {},
   "outputs": [
    {
     "name": "stdout",
     "output_type": "stream",
     "text": [
      "6.594\n"
     ]
    }
   ],
   "source": [
    "rounds = 0\n",
    "ON = 0\n",
    "ABN = 0\n",
    "trials = 1000000\n",
    "while rounds < trials:\n",
    "    num = random.randint(1,10000)\n",
    "    if num <= 66:\n",
    "        ON += 1\n",
    "    if num > 66 and num <=72:\n",
    "        ABN += 1\n",
    "    rounds += 1\n",
    "\n",
    "print(str((ON/trials) * 1000))"
   ]
  },
  {
   "cell_type": "code",
   "execution_count": 57,
   "id": "62562098-4cd4-4f30-a0b5-edc7c7e750b0",
   "metadata": {},
   "outputs": [
    {
     "name": "stdout",
     "output_type": "stream",
     "text": [
      "7.226\n"
     ]
    }
   ],
   "source": [
    "rounds = 0\n",
    "TargBld = 0\n",
    "trials = 1000000\n",
    "while rounds < trials:\n",
    "    num = random.randint(1,10000)\n",
    "    if (num <= 66) or (num > 66 and num <=72):\n",
    "        TargBld += 1\n",
    "    rounds += 1\n",
    "\n",
    "print(str((TargBld/trials) * 1000))"
   ]
  },
  {
   "cell_type": "markdown",
   "id": "9852d6d7-026b-4c25-a2ba-d0301189c694",
   "metadata": {},
   "source": []
  }
 ],
 "metadata": {
  "kernelspec": {
   "display_name": "Python 3 (ipykernel)",
   "language": "python",
   "name": "python3"
  },
  "language_info": {
   "codemirror_mode": {
    "name": "ipython",
    "version": 3
   },
   "file_extension": ".py",
   "mimetype": "text/x-python",
   "name": "python",
   "nbconvert_exporter": "python",
   "pygments_lexer": "ipython3",
   "version": "3.12.4"
  }
 },
 "nbformat": 4,
 "nbformat_minor": 5
}
