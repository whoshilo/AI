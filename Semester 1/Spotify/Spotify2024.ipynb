{
 "cells": [
  {
   "cell_type": "code",
   "execution_count": 2,
   "id": "7d746f24-65e0-4116-8cb6-1907f7e6f872",
   "metadata": {},
   "outputs": [],
   "source": [
    "import pandas as pd"
   ]
  },
  {
   "cell_type": "code",
   "execution_count": 4,
   "id": "204994e5-898c-4596-a278-67f0900253a0",
   "metadata": {},
   "outputs": [],
   "source": [
    "import seaborn as sns"
   ]
  },
  {
   "cell_type": "code",
   "execution_count": 5,
   "id": "2c9a709d-9564-4d68-9a23-d5544463b99f",
   "metadata": {
    "scrolled": true
   },
   "outputs": [],
   "source": [
    "df = pd.read_csv('spotify2024.csv', encoding = 'latin1')\n",
    "\n"
   ]
  },
  {
   "cell_type": "code",
   "execution_count": 6,
   "id": "441f7d31-997e-48f6-bdf1-9cb248c9e5e6",
   "metadata": {},
   "outputs": [
    {
     "name": "stdout",
     "output_type": "stream",
     "text": [
      "<class 'pandas.core.frame.DataFrame'>\n",
      "RangeIndex: 4600 entries, 0 to 4599\n",
      "Data columns (total 29 columns):\n",
      " #   Column                      Non-Null Count  Dtype  \n",
      "---  ------                      --------------  -----  \n",
      " 0   Track                       4600 non-null   object \n",
      " 1   Album Name                  4600 non-null   object \n",
      " 2   Artist                      4595 non-null   object \n",
      " 3   Release Date                4600 non-null   object \n",
      " 4   ISRC                        4600 non-null   object \n",
      " 5   All Time Rank               4600 non-null   object \n",
      " 6   Track Score                 4600 non-null   float64\n",
      " 7   Spotify Streams             4487 non-null   object \n",
      " 8   Spotify Playlist Count      4530 non-null   object \n",
      " 9   Spotify Playlist Reach      4528 non-null   object \n",
      " 10  Spotify Popularity          3796 non-null   float64\n",
      " 11  YouTube Views               4292 non-null   object \n",
      " 12  YouTube Likes               4285 non-null   object \n",
      " 13  TikTok Posts                3427 non-null   object \n",
      " 14  TikTok Likes                3620 non-null   object \n",
      " 15  TikTok Views                3619 non-null   object \n",
      " 16  YouTube Playlist Reach      3591 non-null   object \n",
      " 17  Apple Music Playlist Count  4039 non-null   float64\n",
      " 18  AirPlay Spins               4102 non-null   object \n",
      " 19  SiriusXM Spins              2477 non-null   object \n",
      " 20  Deezer Playlist Count       3679 non-null   float64\n",
      " 21  Deezer Playlist Reach       3672 non-null   object \n",
      " 22  Amazon Playlist Count       3545 non-null   float64\n",
      " 23  Pandora Streams             3494 non-null   object \n",
      " 24  Pandora Track Stations      3332 non-null   object \n",
      " 25  Soundcloud Streams          1267 non-null   object \n",
      " 26  Shazam Counts               4023 non-null   object \n",
      " 27  TIDAL Popularity            0 non-null      float64\n",
      " 28  Explicit Track              4600 non-null   int64  \n",
      "dtypes: float64(6), int64(1), object(22)\n",
      "memory usage: 1.0+ MB\n"
     ]
    }
   ],
   "source": [
    "df.info()"
   ]
  },
  {
   "cell_type": "code",
   "execution_count": 7,
   "id": "7ec7c135-10ba-4747-a9e5-c6595938e071",
   "metadata": {},
   "outputs": [
    {
     "data": {
      "text/plain": [
       "Index(['Track', 'Album Name', 'Artist', 'Release Date', 'ISRC',\n",
       "       'All Time Rank', 'Track Score', 'Spotify Streams',\n",
       "       'Spotify Playlist Count', 'Spotify Playlist Reach',\n",
       "       'Spotify Popularity', 'YouTube Views', 'YouTube Likes', 'TikTok Posts',\n",
       "       'TikTok Likes', 'TikTok Views', 'YouTube Playlist Reach',\n",
       "       'Apple Music Playlist Count', 'AirPlay Spins', 'SiriusXM Spins',\n",
       "       'Deezer Playlist Count', 'Deezer Playlist Reach',\n",
       "       'Amazon Playlist Count', 'Pandora Streams', 'Pandora Track Stations',\n",
       "       'Soundcloud Streams', 'Shazam Counts', 'TIDAL Popularity',\n",
       "       'Explicit Track'],\n",
       "      dtype='object')"
      ]
     },
     "execution_count": 7,
     "metadata": {},
     "output_type": "execute_result"
    }
   ],
   "source": [
    "df.columns"
   ]
  },
  {
   "cell_type": "code",
   "execution_count": 9,
   "id": "6f563164-b7f7-4dc2-a8cf-dc4e7d34a5d5",
   "metadata": {},
   "outputs": [
    {
     "data": {
      "text/html": [
       "<div>\n",
       "<style scoped>\n",
       "    .dataframe tbody tr th:only-of-type {\n",
       "        vertical-align: middle;\n",
       "    }\n",
       "\n",
       "    .dataframe tbody tr th {\n",
       "        vertical-align: top;\n",
       "    }\n",
       "\n",
       "    .dataframe thead th {\n",
       "        text-align: right;\n",
       "    }\n",
       "</style>\n",
       "<table border=\"1\" class=\"dataframe\">\n",
       "  <thead>\n",
       "    <tr style=\"text-align: right;\">\n",
       "      <th></th>\n",
       "      <th>Track</th>\n",
       "      <th>Album Name</th>\n",
       "      <th>Artist</th>\n",
       "      <th>Release Date</th>\n",
       "      <th>ISRC</th>\n",
       "      <th>All Time Rank</th>\n",
       "      <th>Track Score</th>\n",
       "      <th>Spotify Streams</th>\n",
       "      <th>Spotify Playlist Count</th>\n",
       "      <th>Spotify Playlist Reach</th>\n",
       "      <th>...</th>\n",
       "      <th>SiriusXM Spins</th>\n",
       "      <th>Deezer Playlist Count</th>\n",
       "      <th>Deezer Playlist Reach</th>\n",
       "      <th>Amazon Playlist Count</th>\n",
       "      <th>Pandora Streams</th>\n",
       "      <th>Pandora Track Stations</th>\n",
       "      <th>Soundcloud Streams</th>\n",
       "      <th>Shazam Counts</th>\n",
       "      <th>TIDAL Popularity</th>\n",
       "      <th>Explicit Track</th>\n",
       "    </tr>\n",
       "  </thead>\n",
       "  <tbody>\n",
       "    <tr>\n",
       "      <th>0</th>\n",
       "      <td>MILLION DOLLAR BABY</td>\n",
       "      <td>Million Dollar Baby - Single</td>\n",
       "      <td>Tommy Richman</td>\n",
       "      <td>4/26/2024</td>\n",
       "      <td>QM24S2402528</td>\n",
       "      <td>1</td>\n",
       "      <td>725.4</td>\n",
       "      <td>390,470,936</td>\n",
       "      <td>30,716</td>\n",
       "      <td>196,631,588</td>\n",
       "      <td>...</td>\n",
       "      <td>684</td>\n",
       "      <td>62.0</td>\n",
       "      <td>17,598,718</td>\n",
       "      <td>114.0</td>\n",
       "      <td>18,004,655</td>\n",
       "      <td>22,931</td>\n",
       "      <td>4,818,457</td>\n",
       "      <td>2,669,262</td>\n",
       "      <td>NaN</td>\n",
       "      <td>0</td>\n",
       "    </tr>\n",
       "    <tr>\n",
       "      <th>1</th>\n",
       "      <td>Not Like Us</td>\n",
       "      <td>Not Like Us</td>\n",
       "      <td>Kendrick Lamar</td>\n",
       "      <td>5/4/2024</td>\n",
       "      <td>USUG12400910</td>\n",
       "      <td>2</td>\n",
       "      <td>545.9</td>\n",
       "      <td>323,703,884</td>\n",
       "      <td>28,113</td>\n",
       "      <td>174,597,137</td>\n",
       "      <td>...</td>\n",
       "      <td>3</td>\n",
       "      <td>67.0</td>\n",
       "      <td>10,422,430</td>\n",
       "      <td>111.0</td>\n",
       "      <td>7,780,028</td>\n",
       "      <td>28,444</td>\n",
       "      <td>6,623,075</td>\n",
       "      <td>1,118,279</td>\n",
       "      <td>NaN</td>\n",
       "      <td>1</td>\n",
       "    </tr>\n",
       "    <tr>\n",
       "      <th>2</th>\n",
       "      <td>i like the way you kiss me</td>\n",
       "      <td>I like the way you kiss me</td>\n",
       "      <td>Artemas</td>\n",
       "      <td>3/19/2024</td>\n",
       "      <td>QZJ842400387</td>\n",
       "      <td>3</td>\n",
       "      <td>538.4</td>\n",
       "      <td>601,309,283</td>\n",
       "      <td>54,331</td>\n",
       "      <td>211,607,669</td>\n",
       "      <td>...</td>\n",
       "      <td>536</td>\n",
       "      <td>136.0</td>\n",
       "      <td>36,321,847</td>\n",
       "      <td>172.0</td>\n",
       "      <td>5,022,621</td>\n",
       "      <td>5,639</td>\n",
       "      <td>7,208,651</td>\n",
       "      <td>5,285,340</td>\n",
       "      <td>NaN</td>\n",
       "      <td>0</td>\n",
       "    </tr>\n",
       "    <tr>\n",
       "      <th>3</th>\n",
       "      <td>Flowers</td>\n",
       "      <td>Flowers - Single</td>\n",
       "      <td>Miley Cyrus</td>\n",
       "      <td>1/12/2023</td>\n",
       "      <td>USSM12209777</td>\n",
       "      <td>4</td>\n",
       "      <td>444.9</td>\n",
       "      <td>2,031,280,633</td>\n",
       "      <td>269,802</td>\n",
       "      <td>136,569,078</td>\n",
       "      <td>...</td>\n",
       "      <td>2,182</td>\n",
       "      <td>264.0</td>\n",
       "      <td>24,684,248</td>\n",
       "      <td>210.0</td>\n",
       "      <td>190,260,277</td>\n",
       "      <td>203,384</td>\n",
       "      <td>NaN</td>\n",
       "      <td>11,822,942</td>\n",
       "      <td>NaN</td>\n",
       "      <td>0</td>\n",
       "    </tr>\n",
       "    <tr>\n",
       "      <th>4</th>\n",
       "      <td>Houdini</td>\n",
       "      <td>Houdini</td>\n",
       "      <td>Eminem</td>\n",
       "      <td>5/31/2024</td>\n",
       "      <td>USUG12403398</td>\n",
       "      <td>5</td>\n",
       "      <td>423.3</td>\n",
       "      <td>107,034,922</td>\n",
       "      <td>7,223</td>\n",
       "      <td>151,469,874</td>\n",
       "      <td>...</td>\n",
       "      <td>1</td>\n",
       "      <td>82.0</td>\n",
       "      <td>17,660,624</td>\n",
       "      <td>105.0</td>\n",
       "      <td>4,493,884</td>\n",
       "      <td>7,006</td>\n",
       "      <td>207,179</td>\n",
       "      <td>457,017</td>\n",
       "      <td>NaN</td>\n",
       "      <td>1</td>\n",
       "    </tr>\n",
       "  </tbody>\n",
       "</table>\n",
       "<p>5 rows × 29 columns</p>\n",
       "</div>"
      ],
      "text/plain": [
       "                        Track                    Album Name          Artist  \\\n",
       "0         MILLION DOLLAR BABY  Million Dollar Baby - Single   Tommy Richman   \n",
       "1                 Not Like Us                   Not Like Us  Kendrick Lamar   \n",
       "2  i like the way you kiss me    I like the way you kiss me         Artemas   \n",
       "3                     Flowers              Flowers - Single     Miley Cyrus   \n",
       "4                     Houdini                       Houdini          Eminem   \n",
       "\n",
       "  Release Date          ISRC All Time Rank  Track Score Spotify Streams  \\\n",
       "0    4/26/2024  QM24S2402528             1        725.4     390,470,936   \n",
       "1     5/4/2024  USUG12400910             2        545.9     323,703,884   \n",
       "2    3/19/2024  QZJ842400387             3        538.4     601,309,283   \n",
       "3    1/12/2023  USSM12209777             4        444.9   2,031,280,633   \n",
       "4    5/31/2024  USUG12403398             5        423.3     107,034,922   \n",
       "\n",
       "  Spotify Playlist Count Spotify Playlist Reach  ...  SiriusXM Spins  \\\n",
       "0                 30,716            196,631,588  ...             684   \n",
       "1                 28,113            174,597,137  ...               3   \n",
       "2                 54,331            211,607,669  ...             536   \n",
       "3                269,802            136,569,078  ...           2,182   \n",
       "4                  7,223            151,469,874  ...               1   \n",
       "\n",
       "  Deezer Playlist Count Deezer Playlist Reach Amazon Playlist Count  \\\n",
       "0                  62.0            17,598,718                 114.0   \n",
       "1                  67.0            10,422,430                 111.0   \n",
       "2                 136.0            36,321,847                 172.0   \n",
       "3                 264.0            24,684,248                 210.0   \n",
       "4                  82.0            17,660,624                 105.0   \n",
       "\n",
       "  Pandora Streams Pandora Track Stations Soundcloud Streams  Shazam Counts  \\\n",
       "0      18,004,655                 22,931          4,818,457      2,669,262   \n",
       "1       7,780,028                 28,444          6,623,075      1,118,279   \n",
       "2       5,022,621                  5,639          7,208,651      5,285,340   \n",
       "3     190,260,277                203,384                NaN     11,822,942   \n",
       "4       4,493,884                  7,006            207,179        457,017   \n",
       "\n",
       "  TIDAL Popularity Explicit Track  \n",
       "0              NaN              0  \n",
       "1              NaN              1  \n",
       "2              NaN              0  \n",
       "3              NaN              0  \n",
       "4              NaN              1  \n",
       "\n",
       "[5 rows x 29 columns]"
      ]
     },
     "execution_count": 9,
     "metadata": {},
     "output_type": "execute_result"
    }
   ],
   "source": [
    "df.head()"
   ]
  },
  {
   "cell_type": "code",
   "execution_count": 14,
   "id": "9610e130-07c9-4ce0-986b-c43dc0fb2bd9",
   "metadata": {
    "scrolled": true
   },
   "outputs": [
    {
     "data": {
      "text/plain": [
       "Track                          Miles On It\n",
       "Album Name                     Miles on It\n",
       "Artist                          Marshmello\n",
       "Release Date                      5/3/2024\n",
       "ISRC                          QZZVQ2400059\n",
       "All Time Rank                          992\n",
       "Track Score                           48.2\n",
       "Spotify Streams                 41,924,126\n",
       "Spotify Playlist Count               3,794\n",
       "Spotify Playlist Reach         124,369,916\n",
       "Spotify Popularity                    79.0\n",
       "YouTube Views                    4,219,901\n",
       "YouTube Likes                      103,922\n",
       "TikTok Posts                           NaN\n",
       "TikTok Likes                           NaN\n",
       "TikTok Views                           NaN\n",
       "YouTube Playlist Reach         237,146,592\n",
       "Apple Music Playlist Count            87.0\n",
       "AirPlay Spins                        4,032\n",
       "SiriusXM Spins                          33\n",
       "Deezer Playlist Count                 51.0\n",
       "Deezer Playlist Reach            8,224,597\n",
       "Amazon Playlist Count                 91.0\n",
       "Pandora Streams                  9,227,545\n",
       "Pandora Track Stations               2,729\n",
       "Soundcloud Streams                 239,024\n",
       "Shazam Counts                      189,286\n",
       "TIDAL Popularity                       NaN\n",
       "Explicit Track                           0\n",
       "Name: 998, dtype: object"
      ]
     },
     "execution_count": 14,
     "metadata": {},
     "output_type": "execute_result"
    }
   ],
   "source": [
    "df.loc[998]"
   ]
  },
  {
   "cell_type": "code",
   "execution_count": 16,
   "id": "6b384039-3a0a-4308-b1dd-60461482f572",
   "metadata": {},
   "outputs": [
    {
     "data": {
      "text/plain": [
       "Explicit Track\n",
       "0    2949\n",
       "1    1651\n",
       "Name: count, dtype: int64"
      ]
     },
     "execution_count": 16,
     "metadata": {},
     "output_type": "execute_result"
    }
   ],
   "source": [
    "ExfreqTable = df.value_counts('Explicit Track')\n",
    "ExfreqTable"
   ]
  },
  {
   "cell_type": "code",
   "execution_count": 18,
   "id": "b030b147-8fec-467f-93dd-d4956bd9e1c6",
   "metadata": {},
   "outputs": [
    {
     "ename": "SyntaxError",
     "evalue": "unterminated string literal (detected at line 1) (2742455681.py, line 1)",
     "output_type": "error",
     "traceback": [
      "\u001b[1;36m  Cell \u001b[1;32mIn[18], line 1\u001b[1;36m\u001b[0m\n\u001b[1;33m    'FExfreqTable = df['Explicit Track'].value_counts(normalize=True)*100\u001b[0m\n\u001b[1;37m                                      ^\u001b[0m\n\u001b[1;31mSyntaxError\u001b[0m\u001b[1;31m:\u001b[0m unterminated string literal (detected at line 1)\n"
     ]
    }
   ],
   "source": [
    "'FExfreqTable = df['Explicit Track'].value_counts(normalize=True)*100\n",
    "FExfreqTable = pd.DataFrame(FExfreqTable)\n",
    "FExfreqTable = {\n",
    "    'Type':['Explicit', 'Clean'],\n",
    "    'Percent':['Explicit']\n",
    "}''"
   ]
  },
  {
   "cell_type": "code",
   "execution_count": 20,
   "id": "3ce2f1ba-f3c2-48a9-b546-8ea4f58d56cf",
   "metadata": {},
   "outputs": [
    {
     "ename": "SyntaxError",
     "evalue": "unterminated string literal (detected at line 1) (3085288553.py, line 1)",
     "output_type": "error",
     "traceback": [
      "\u001b[1;36m  Cell \u001b[1;32mIn[20], line 1\u001b[1;36m\u001b[0m\n\u001b[1;33m    'sns.barplot(data=FExfreqTable, x='Type', y='Percent', hue= 'Explicit Track')''\u001b[0m\n\u001b[1;37m                                                                                  ^\u001b[0m\n\u001b[1;31mSyntaxError\u001b[0m\u001b[1;31m:\u001b[0m unterminated string literal (detected at line 1)\n"
     ]
    }
   ],
   "source": [
    "'sns.barplot(data=FExfreqTable, x='Type', y='Percent', hue= 'Explicit Track')''"
   ]
  },
  {
   "cell_type": "code",
   "execution_count": 22,
   "id": "ac25c652-e3dd-4e63-baa6-e6f06c7ec7a5",
   "metadata": {},
   "outputs": [
    {
     "data": {
      "text/plain": [
       "{'Jan': 503,\n",
       " 'Feb': 371,\n",
       " 'Mar': 430,\n",
       " 'Apr': 420,\n",
       " 'May': 511,\n",
       " 'Jun': 395,\n",
       " 'Jul': 321,\n",
       " 'Aug': 315,\n",
       " 'Sep': 328,\n",
       " 'Oct': 384,\n",
       " 'Nov': 350,\n",
       " 'Dec': 272}"
      ]
     },
     "execution_count": 22,
     "metadata": {},
     "output_type": "execute_result"
    }
   ],
   "source": [
    "months = {\"Jan\": 0, \"Feb\": 0, \"Mar\": 0, \"Apr\": 0, \"May\": 0, \"Jun\": 0, \n",
    "         \"Jul\": 0, \"Aug\": 0, \"Sep\": 0, \"Oct\": 0, \"Nov\": 0, \"Dec\": 0}\n",
    "for date in df[\"Release Date\"]:\n",
    "    month = date.split(\"/\")[0]\n",
    "    if month == \"1\":\n",
    "        months[\"Jan\"] += 1\n",
    "    elif month == \"2\":\n",
    "        months[\"Feb\"] += 1\n",
    "    elif month == \"3\":\n",
    "        months[\"Mar\"] += 1\n",
    "    elif month == \"4\":\n",
    "        months[\"Apr\"] += 1\n",
    "    elif month == \"5\":\n",
    "        months['May'] += 1\n",
    "    elif month == \"6\":\n",
    "        months[\"Jun\"] += 1\n",
    "    elif month == \"7\":\n",
    "        months[\"Jul\"] += 1\n",
    "    elif month == \"8\":\n",
    "        months[\"Aug\"] += 1\n",
    "    elif month == \"9\":\n",
    "        months[\"Sep\"] += 1\n",
    "    elif month == \"10\":\n",
    "        months[\"Oct\"] += 1\n",
    "    elif month == \"11\":\n",
    "        months[\"Nov\"] += 1\n",
    "    elif month == \"12\":\n",
    "        months[\"Dec\"] += 1\n",
    "months"
   ]
  },
  {
   "cell_type": "code",
   "execution_count": 24,
   "id": "cf98c8f3-f17a-43c1-824c-f741a13c8227",
   "metadata": {},
   "outputs": [
    {
     "data": {
      "text/plain": [
       "<Axes: xlabel='Months', ylabel='Count'>"
      ]
     },
     "execution_count": 24,
     "metadata": {},
     "output_type": "execute_result"
    },
    {
     "data": {
      "image/png": "[encoded data removed]",
      "text/plain": [
       "<Figure size 640x480 with 1 Axes>"
      ]
     },
     "metadata": {},
     "output_type": "display_data"
    }
   ],
   "source": [
    "dates = {\n",
    "    \"Months\": [\"Jan\",\"Feb\", \"Mar\", \"Apr\", \"May\", \"Jun\", \"Jul\", \"Aug\", \"Sep\", \"Oct\", \"Nov\", \"Dec\"],\n",
    "    \"Count\": [months[\"Jan\"], months[\"Feb\"], months[\"Mar\"], months[\"Apr\"],months[\"May\"], months[\"Jun\"], months[\"Jul\"], months[\"Aug\"], months[\"Sep\"], months[\"Oct\"], months[\"Nov\"], months[\"Dec\"]]\n",
    "}\n",
    "dates = pd.DataFrame(dates)\n",
    "sns.barplot(data=dates, x=\"Months\", y=\"Count\")\n",
    "    \n",
    "    \n"
   ]
  },
  {
   "cell_type": "code",
   "execution_count": 25,
   "id": "ca6f61b7-f0af-4a0b-8529-988b22bf6809",
   "metadata": {},
   "outputs": [
    {
     "data": {
      "text/plain": [
       "<Axes: xlabel='Spotify Popularity', ylabel='Count'>"
      ]
     },
     "execution_count": 25,
     "metadata": {},
     "output_type": "execute_result"
    },
    {
     "data": {
      "image/png": "[encoded data removed]",
      "text/plain": [
       "<Figure size 640x480 with 1 Axes>"
      ]
     },
     "metadata": {},
     "output_type": "display_data"
    }
   ],
   "source": [
    "sns.histplot(df['Spotify Popularity'], bins=30, kde=True)"
   ]
  },
  {
   "cell_type": "code",
   "execution_count": 26,
   "id": "b4d9fa23-755a-4b56-aebd-ffc11408628f",
   "metadata": {},
   "outputs": [
    {
     "data": {
      "text/plain": [
       "numpy.float64"
      ]
     },
     "execution_count": 26,
     "metadata": {},
     "output_type": "execute_result"
    }
   ],
   "source": [
    "df[\"YouTube Views\"] = df[\"YouTube Views\"].str.replace(',', '')\n",
    "df[\"YouTube Views\"] = pd.to_numeric(df[\"YouTube Views\"], errors=\"coerce\")\n",
    "type(df.loc[0][\"YouTube Views\"])"
   ]
  },
  {
   "cell_type": "code",
   "execution_count": 27,
   "id": "33646863-c9a5-499d-9553-418b85690505",
   "metadata": {},
   "outputs": [
    {
     "data": {
      "text/plain": [
       "<Axes: xlabel='YouTube Views', ylabel='Count'>"
      ]
     },
     "execution_count": 27,
     "metadata": {},
     "output_type": "execute_result"
    },
    {
     "data": {
      "image/png": "[encoded data removed]",
      "text/plain": [
       "<Figure size 640x480 with 1 Axes>"
      ]
     },
     "metadata": {},
     "output_type": "display_data"
    }
   ],
   "source": [
    "sns.histplot(data=df, x=\"YouTube Views\", bins=50)"
   ]
  },
  {
   "cell_type": "code",
   "execution_count": 29,
   "id": "8d4747b1-c2d3-45ac-873d-841709a71721",
   "metadata": {},
   "outputs": [
    {
     "data": {
      "text/plain": [
       "numpy.float64"
      ]
     },
     "execution_count": 29,
     "metadata": {},
     "output_type": "execute_result"
    }
   ],
   "source": [
    "df[\"Spotify Streams\"] = df[\"Spotify Streams\"].str.replace(',', '')\n",
    "df[\"Spotify Streams\"] = pd.to_numeric(df[\"Spotify Streams\"], errors=\"coerce\")\n",
    "type(df.loc[0][\"Spotify Streams\"])"
   ]
  },
  {
   "cell_type": "code",
   "execution_count": 32,
   "id": "597f9fb1-ad6a-42c8-bc98-9b03bf36e3ba",
   "metadata": {},
   "outputs": [
    {
     "data": {
      "text/plain": [
       "<Axes: xlabel='Spotify Streams', ylabel='Count'>"
      ]
     },
     "execution_count": 32,
     "metadata": {},
     "output_type": "execute_result"
    },
    {
     "data": {
      "image/png": "[encoded data removed]",
      "text/plain": [
       "<Figure size 640x480 with 1 Axes>"
      ]
     },
     "metadata": {},
     "output_type": "display_data"
    }
   ],
   "source": [
    "sns.histplot(data=df, x='Spotify Streams', bins=50)"
   ]
  },
  {
   "cell_type": "code",
   "execution_count": 35,
   "id": "9a0a2271-4c46-4d01-ba19-e368de762203",
   "metadata": {},
   "outputs": [
    {
     "data": {
      "text/plain": [
       "numpy.float64"
      ]
     },
     "execution_count": 35,
     "metadata": {},
     "output_type": "execute_result"
    }
   ],
   "source": [
    "df[\"Shazam Counts\"] = df[\"Shazam Counts\"].str.replace(',', '')\n",
    "df[\"Shazam Counts\"] = pd.to_numeric(df[\"Shazam Counts\"], errors=\"coerce\")\n",
    "type(df.loc[0][\"Shazam Counts\"])"
   ]
  },
  {
   "cell_type": "code",
   "execution_count": 38,
   "id": "fe93f3f7-b95f-4c67-9f6d-fa9119e949c9",
   "metadata": {},
   "outputs": [
    {
     "data": {
      "text/plain": [
       "<Axes: xlabel='Shazam Counts', ylabel='Count'>"
      ]
     },
     "execution_count": 38,
     "metadata": {},
     "output_type": "execute_result"
    },
    {
     "data": {
      "image/png": "[encoded data removed]",
      "text/plain": [
       "<Figure size 640x480 with 1 Axes>"
      ]
     },
     "metadata": {},
     "output_type": "display_data"
    }
   ],
   "source": [
    "sns.histplot(data=df, x='Shazam Counts', bins=50)"
   ]
  },
  {
   "cell_type": "code",
   "execution_count": 39,
   "id": "58823a7d-f448-44b5-97e6-96a6a70536de",
   "metadata": {},
   "outputs": [
    {
     "data": {
      "text/plain": [
       "numpy.int64"
      ]
     },
     "execution_count": 39,
     "metadata": {},
     "output_type": "execute_result"
    }
   ],
   "source": [
    "df[\"All Time Rank\"] = df[\"All Time Rank\"].str.replace(',', '')\n",
    "df[\"All Time Rank\"] = pd.to_numeric(df[\"All Time Rank\"], errors=\"coerce\")\n",
    "type(df.loc[0][\"All Time Rank\"])"
   ]
  },
  {
   "cell_type": "code",
   "execution_count": 42,
   "id": "9f212e67-479b-4ad9-8c85-dbe00de23940",
   "metadata": {},
   "outputs": [
    {
     "data": {
      "text/plain": [
       "<Axes: xlabel='All Time Rank', ylabel='Count'>"
      ]
     },
     "execution_count": 42,
     "metadata": {},
     "output_type": "execute_result"
    },
    {
     "data": {
      "image/png": "[encoded data removed]",
      "text/plain": [
       "<Figure size 640x480 with 1 Axes>"
      ]
     },
     "metadata": {},
     "output_type": "display_data"
    }
   ],
   "source": [
    "sns.histplot(data=df, x='All Time Rank', bins=50)"
   ]
  },
  {
   "cell_type": "code",
   "execution_count": 44,
   "id": "84520d6a-5068-43b6-9d7e-c287c2a9c640",
   "metadata": {},
   "outputs": [
    {
     "data": {
      "text/plain": [
       "numpy.float64"
      ]
     },
     "execution_count": 44,
     "metadata": {},
     "output_type": "execute_result"
    }
   ],
   "source": [
    "df[\"Soundcloud Streams\"] = df[\"Soundcloud Streams\"].str.replace(',', '')\n",
    "df[\"Soundcloud Streams\"] = pd.to_numeric(df[\"Soundcloud Streams\"], errors=\"coerce\")\n",
    "type(df.loc[0][\"Soundcloud Streams\"])"
   ]
  },
  {
   "cell_type": "code",
   "execution_count": 46,
   "id": "770bcf90-f34a-41f0-aad0-b4d9667f1d19",
   "metadata": {},
   "outputs": [
    {
     "data": {
      "text/plain": [
       "<Axes: xlabel='Soundcloud Streams', ylabel='Count'>"
      ]
     },
     "execution_count": 46,
     "metadata": {},
     "output_type": "execute_result"
    },
    {
     "data": {
      "image/png": "[encoded data removed]",
      "text/plain": [
       "<Figure size 640x480 with 1 Axes>"
      ]
     },
     "metadata": {},
     "output_type": "display_data"
    }
   ],
   "source": [
    "sns.histplot(data=df, x='Soundcloud Streams', bins=50)"
   ]
  },
  {
   "cell_type": "code",
   "execution_count": 48,
   "id": "ac4f468d-88fa-48b6-84ba-5b9472505a76",
   "metadata": {},
   "outputs": [
    {
     "data": {
      "text/plain": [
       "numpy.float64"
      ]
     },
     "execution_count": 48,
     "metadata": {},
     "output_type": "execute_result"
    }
   ],
   "source": [
    "df[\"TikTok Likes\"] = df[\"TikTok Likes\"].str.replace(',', '')\n",
    "df[\"TikTok Likes\"] = pd.to_numeric(df[\"TikTok Likes\"], errors=\"coerce\")\n",
    "type(df.loc[0][\"TikTok Likes\"])"
   ]
  },
  {
   "cell_type": "code",
   "execution_count": 50,
   "id": "a8426c0c-7213-4700-b26d-d928605ac6eb",
   "metadata": {},
   "outputs": [
    {
     "data": {
      "text/plain": [
       "23474223833.0"
      ]
     },
     "execution_count": 50,
     "metadata": {},
     "output_type": "execute_result"
    }
   ],
   "source": [
    "highest_value_TTL = df['TikTok Likes'].max()\n",
    "highest_value_TTL"
   ]
  },
  {
   "cell_type": "code",
   "execution_count": 52,
   "id": "562ade65-dbf2-47c0-af90-9c165eececaf",
   "metadata": {},
   "outputs": [
    {
     "data": {
      "text/plain": [
       "3.0"
      ]
     },
     "execution_count": 52,
     "metadata": {},
     "output_type": "execute_result"
    }
   ],
   "source": [
    "lowest_value_TTL = df['TikTok Likes'].min()\n",
    "lowest_value_TTL"
   ]
  },
  {
   "cell_type": "code",
   "execution_count": 54,
   "id": "395a9d14-ff83-43d2-96f7-1a1853700eb4",
   "metadata": {},
   "outputs": [
    {
     "data": {
      "text/plain": [
       "numpy.float64"
      ]
     },
     "execution_count": 54,
     "metadata": {},
     "output_type": "execute_result"
    }
   ],
   "source": [
    "df[\"YouTube Likes\"] = df[\"YouTube Likes\"].str.replace(',', '')\n",
    "df[\"YouTube Likes\"] = pd.to_numeric(df[\"YouTube Likes\"], errors=\"coerce\")\n",
    "type(df.loc[0]['YouTube Likes'])"
   ]
  },
  {
   "cell_type": "code",
   "execution_count": 56,
   "id": "a896b7c7-b8fc-45ce-a87f-6557c62bc173",
   "metadata": {},
   "outputs": [
    {
     "data": {
      "text/plain": [
       "25.0"
      ]
     },
     "execution_count": 56,
     "metadata": {},
     "output_type": "execute_result"
    }
   ],
   "source": [
    "lowest_value_YTL = df['YouTube Likes'].min()\n",
    "lowest_value_YTL"
   ]
  },
  {
   "cell_type": "markdown",
   "id": "cb9e7519-2b6b-4927-a29d-25d8a1f58d6d",
   "metadata": {},
   "source": [
    "Man, I sure do LOVE copying code!"
   ]
  },
  {
   "cell_type": "code",
   "execution_count": 59,
   "id": "36051645-227c-4ca1-a3af-d2a944ab1b7a",
   "metadata": {},
   "outputs": [
    {
     "data": {
      "text/plain": [
       "numpy.float64"
      ]
     },
     "execution_count": 59,
     "metadata": {},
     "output_type": "execute_result"
    }
   ],
   "source": [
    "df[\"TikTok Views\"] = df[\"TikTok Views\"].str.replace(',', '')\n",
    "df[\"TikTok Views\"] = pd.to_numeric(df[\"TikTok Views\"], errors=\"coerce\")\n",
    "type(df.loc[0]['TikTok Views'])"
   ]
  },
  {
   "cell_type": "code",
   "execution_count": 73,
   "id": "fd5f79dd-ed59-4d7c-aba3-12d840f048ce",
   "metadata": {},
   "outputs": [
    {
     "data": {
      "text/plain": [
       "\"data = 'TikTok Views'\\ndf = pd.DataFrame(['TikTok Views'])\\nsummary = df.describe()\\nsummary\""
      ]
     },
     "execution_count": 73,
     "metadata": {},
     "output_type": "execute_result"
    }
   ],
   "source": [
    "'''data = 'TikTok Views'\n",
    "df = pd.DataFrame(['TikTok Views'])\n",
    "summary = df.describe()\n",
    "summary'''"
   ]
  },
  {
   "cell_type": "code",
   "execution_count": 75,
   "id": "04512d46-8f72-4fda-b6bc-d5173b740740",
   "metadata": {},
   "outputs": [
    {
     "data": {
      "text/plain": [
       "{'Max': 233232311463.0,\n",
       " 'Q3': 913416942.0,\n",
       " 'Median': 265917250.0,\n",
       " 'Q1': 59027855.5,\n",
       " 'Min': 19.0}"
      ]
     },
     "execution_count": 75,
     "metadata": {},
     "output_type": "execute_result"
    }
   ],
   "source": [
    "summary = {\n",
    "    'Max': df['TikTok Views'].max(),\n",
    "    'Q3': df['TikTok Views'].quantile(0.75),\n",
    "    'Median': df['TikTok Views'].median(),\n",
    "    'Q1': df['TikTok Views'].quantile(0.25),\n",
    "    'Min':df['TikTok Views'].min()\n",
    "}\n",
    "summary"
   ]
  },
  {
   "cell_type": "code",
   "execution_count": 77,
   "id": "7a70bcb8-0330-489d-89d5-870e29a2b3e5",
   "metadata": {},
   "outputs": [
    {
     "data": {
      "text/plain": [
       "<Axes: xlabel='TikTok Views'>"
      ]
     },
     "execution_count": 77,
     "metadata": {},
     "output_type": "execute_result"
    },
    {
     "data": {
      "image/png": "[encoded data removed]",
      "text/plain": [
       "<Figure size 640x480 with 1 Axes>"
      ]
     },
     "metadata": {},
     "output_type": "display_data"
    }
   ],
   "source": [
    "sns.boxplot(data=df, x='TikTok Views')"
   ]
  },
  {
   "cell_type": "markdown",
   "id": "09bf087e-a3e1-4d35-ad28-d3f1ede5f798",
   "metadata": {},
   "source": [
    "# The distribution of TikTok Views is quite spread out. The maximum value is 233,232,311,463.0 views and the minimum value is 19.0 views. The median of the distribution is 265,917,250.0 views. The shape/distribution is not symmetric. There are many songs with very few views. "
   ]
  },
  {
   "cell_type": "code",
   "execution_count": null,
   "id": "150c5bca-9948-4478-8a27-bcc7c72da3c8",
   "metadata": {},
   "outputs": [],
   "source": []
  },
  {
   "cell_type": "code",
   "execution_count": null,
   "id": "12e77698-afa7-46bc-97cf-5db1e992b3d7",
   "metadata": {},
   "outputs": [],
   "source": []
  }
 ],
 "metadata": {
  "kernelspec": {
   "display_name": "Python 3 (ipykernel)",
   "language": "python",
   "name": "python3"
  },
  "language_info": {
   "codemirror_mode": {
    "name": "ipython",
    "version": 3
   },
   "file_extension": ".py",
   "mimetype": "text/x-python",
   "name": "python",
   "nbconvert_exporter": "python",
   "pygments_lexer": "ipython3",
   "version": "3.12.4"
  }
 },
 "nbformat": 4,
 "nbformat_minor": 5
}
