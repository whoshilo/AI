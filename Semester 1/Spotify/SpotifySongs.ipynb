{
 "cells": [
  {
   "cell_type": "code",
   "execution_count": 80,
   "id": "48d8c9b7-c4bf-4375-af02-76cbafeb151b",
   "metadata": {},
   "outputs": [],
   "source": [
    "import pandas as pd\n",
    "import seaborn as sns"
   ]
  },
  {
   "cell_type": "code",
   "execution_count": 81,
   "id": "6bfddd44-62f5-41c8-9a60-6421a6a63b26",
   "metadata": {},
   "outputs": [],
   "source": [
    "df = pd.read_csv('spotify_songs.csv')"
   ]
  },
  {
   "cell_type": "code",
   "execution_count": 82,
   "id": "0ba55095-0d36-4892-b6e9-6846721872bd",
   "metadata": {},
   "outputs": [
    {
     "name": "stdout",
     "output_type": "stream",
     "text": [
      "<class 'pandas.core.frame.DataFrame'>\n",
      "RangeIndex: 32833 entries, 0 to 32832\n",
      "Data columns (total 23 columns):\n",
      " #   Column                    Non-Null Count  Dtype  \n",
      "---  ------                    --------------  -----  \n",
      " 0   track_id                  32833 non-null  object \n",
      " 1   track_name                32828 non-null  object \n",
      " 2   track_artist              32828 non-null  object \n",
      " 3   track_popularity          32833 non-null  int64  \n",
      " 4   track_album_id            32833 non-null  object \n",
      " 5   track_album_name          32828 non-null  object \n",
      " 6   track_album_release_date  32833 non-null  object \n",
      " 7   playlist_name             32833 non-null  object \n",
      " 8   playlist_id               32833 non-null  object \n",
      " 9   playlist_genre            32833 non-null  object \n",
      " 10  playlist_subgenre         32833 non-null  object \n",
      " 11  danceability              32833 non-null  float64\n",
      " 12  energy                    32833 non-null  float64\n",
      " 13  key                       32833 non-null  int64  \n",
      " 14  loudness                  32833 non-null  float64\n",
      " 15  mode                      32833 non-null  int64  \n",
      " 16  speechiness               32833 non-null  float64\n",
      " 17  acousticness              32833 non-null  float64\n",
      " 18  instrumentalness          32833 non-null  float64\n",
      " 19  liveness                  32833 non-null  float64\n",
      " 20  valence                   32833 non-null  float64\n",
      " 21  tempo                     32833 non-null  float64\n",
      " 22  duration_ms               32833 non-null  int64  \n",
      "dtypes: float64(9), int64(4), object(10)\n",
      "memory usage: 5.8+ MB\n"
     ]
    }
   ],
   "source": [
    "df.info()"
   ]
  },
  {
   "cell_type": "code",
   "execution_count": 83,
   "id": "442caaea-ad71-4ab2-902f-a3362ae68a99",
   "metadata": {},
   "outputs": [
    {
     "data": {
      "text/plain": [
       "<Axes: xlabel='track_popularity', ylabel='Count'>"
      ]
     },
     "execution_count": 83,
     "metadata": {},
     "output_type": "execute_result"
    },
    {
     "data": {
      "image/png": "[encoded data removed]",
      "text/plain": [
       "<Figure size 640x480 with 1 Axes>"
      ]
     },
     "metadata": {},
     "output_type": "display_data"
    }
   ],
   "source": [
    "sns.histplot(data=df, x='track_popularity')"
   ]
  },
  {
   "cell_type": "markdown",
   "id": "6f2abad9-53f5-40e6-88f4-064b02626373",
   "metadata": {},
   "source": [
    "# Track Popularity Histogram\n",
    "## The majority of songs in one bin have little popularity. The graph looks to be skewed left."
   ]
  },
  {
   "cell_type": "code",
   "execution_count": 85,
   "id": "0fe14a23-59d7-42b4-b958-f8b1bcc05182",
   "metadata": {},
   "outputs": [
    {
     "data": {
      "text/plain": [
       "<Axes: xlabel='track_popularity'>"
      ]
     },
     "execution_count": 85,
     "metadata": {},
     "output_type": "execute_result"
    },
    {
     "data": {
      "image/png": "[encoded data removed]",
      "text/plain": [
       "<Figure size 640x480 with 1 Axes>"
      ]
     },
     "metadata": {},
     "output_type": "display_data"
    }
   ],
   "source": [
    "sns.boxplot(data=df, x='track_popularity')"
   ]
  },
  {
   "cell_type": "markdown",
   "id": "e48a84c1-7241-4a02-bba6-55b218a92a0e",
   "metadata": {},
   "source": [
    "# Box plot for the track popularity\n",
    "## The median looks to be around 45, with the respective maximum and minimum being 0 and 100. The 3rd quartile looks to be around 62 and the 1st looks to be 23"
   ]
  },
  {
   "cell_type": "code",
   "execution_count": 87,
   "id": "887b551f-0499-48a9-a303-f1743bf80401",
   "metadata": {
    "scrolled": true
   },
   "outputs": [
    {
     "data": {
      "text/plain": [
       "{'Max': <bound method Series.max of 0        66\n",
       " 1        67\n",
       " 2        70\n",
       " 3        60\n",
       " 4        69\n",
       "          ..\n",
       " 32828    42\n",
       " 32829    20\n",
       " 32830    14\n",
       " 32831    15\n",
       " 32832    27\n",
       " Name: track_popularity, Length: 32833, dtype: int64>,\n",
       " 'Q3': 62.0,\n",
       " 'Median': <bound method Series.median of 0        66\n",
       " 1        67\n",
       " 2        70\n",
       " 3        60\n",
       " 4        69\n",
       "          ..\n",
       " 32828    42\n",
       " 32829    20\n",
       " 32830    14\n",
       " 32831    15\n",
       " 32832    27\n",
       " Name: track_popularity, Length: 32833, dtype: int64>,\n",
       " 'Q1': 24.0,\n",
       " 'Min': <bound method Series.min of 0        66\n",
       " 1        67\n",
       " 2        70\n",
       " 3        60\n",
       " 4        69\n",
       "          ..\n",
       " 32828    42\n",
       " 32829    20\n",
       " 32830    14\n",
       " 32831    15\n",
       " 32832    27\n",
       " Name: track_popularity, Length: 32833, dtype: int64>}"
      ]
     },
     "execution_count": 87,
     "metadata": {},
     "output_type": "execute_result"
    }
   ],
   "source": [
    "summary = {\n",
    "    'Max': df['track_popularity'].max,\n",
    "    'Q3' :df['track_popularity'].quantile(.75),\n",
    "    'Median':df['track_popularity'].median,\n",
    "    'Q1': df['track_popularity'].quantile(.25),\n",
    "    'Min':df['track_popularity'].min\n",
    "}\n",
    "summary"
   ]
  },
  {
   "cell_type": "code",
   "execution_count": 88,
   "id": "34e51fef-3684-44a9-ae65-2f62b0c45a02",
   "metadata": {},
   "outputs": [],
   "source": [
    "def avg(col):\n",
    "    average = col.mean()\n",
    "    return average"
   ]
  },
  {
   "cell_type": "code",
   "execution_count": 89,
   "id": "c7e867dc-90b4-4e8f-ad63-e2ca8cb07e76",
   "metadata": {},
   "outputs": [
    {
     "data": {
      "text/plain": [
       "120.88113154448268"
      ]
     },
     "execution_count": 89,
     "metadata": {},
     "output_type": "execute_result"
    }
   ],
   "source": [
    "avg(df['tempo'])"
   ]
  },
  {
   "cell_type": "code",
   "execution_count": 112,
   "id": "ff2966ce-0aba-4cfa-b65e-f239373f160e",
   "metadata": {},
   "outputs": [
    {
     "data": {
      "text/plain": [
       "0.14508532044765107"
      ]
     },
     "execution_count": 112,
     "metadata": {},
     "output_type": "execute_result"
    }
   ],
   "source": [
    "def STD(col):\n",
    "    standard_deviation = col.std()\n",
    "    return standard_deviation\n",
    "\n",
    "STD(df['danceability'])"
   ]
  },
  {
   "cell_type": "code",
   "execution_count": 116,
   "id": "f56a802b-19a2-44ed-8f29-667e77af0b68",
   "metadata": {},
   "outputs": [
    {
     "data": {
      "text/plain": [
       "26.90362417188013"
      ]
     },
     "execution_count": 116,
     "metadata": {},
     "output_type": "execute_result"
    }
   ],
   "source": [
    "df['tempo'].std()"
   ]
  },
  {
   "cell_type": "code",
   "execution_count": 118,
   "id": "43d887d7-be02-4a35-9471-4cc07eeaff6b",
   "metadata": {},
   "outputs": [
    {
     "data": {
      "text/plain": [
       "0.6548495202996985"
      ]
     },
     "execution_count": 118,
     "metadata": {},
     "output_type": "execute_result"
    }
   ],
   "source": [
    "df['danceability'].mean()"
   ]
  },
  {
   "cell_type": "code",
   "execution_count": 120,
   "id": "546c38e3-8bd1-41b3-a584-bbe9c3d2bcff",
   "metadata": {},
   "outputs": [
    {
     "data": {
      "text/plain": [
       "<Axes: xlabel='danceability', ylabel='Count'>"
      ]
     },
     "execution_count": 120,
     "metadata": {},
     "output_type": "execute_result"
    },
    {
     "data": {
      "image/png": "[encoded data removed]",
      "text/plain": [
       "<Figure size 640x480 with 1 Axes>"
      ]
     },
     "metadata": {},
     "output_type": "display_data"
    }
   ],
   "source": [
    "sns.histplot(data=df, x='danceability')"
   ]
  },
  {
   "cell_type": "code",
   "execution_count": null,
   "id": "0410c943-1a04-467d-aa55-e8d053016b2f",
   "metadata": {},
   "outputs": [],
   "source": []
  }
 ],
 "metadata": {
  "kernelspec": {
   "display_name": "Python 3 (ipykernel)",
   "language": "python",
   "name": "python3"
  },
  "language_info": {
   "codemirror_mode": {
    "name": "ipython",
    "version": 3
   },
   "file_extension": ".py",
   "mimetype": "text/x-python",
   "name": "python",
   "nbconvert_exporter": "python",
   "pygments_lexer": "ipython3",
   "version": "3.12.4"
  }
 },
 "nbformat": 4,
 "nbformat_minor": 5
}
